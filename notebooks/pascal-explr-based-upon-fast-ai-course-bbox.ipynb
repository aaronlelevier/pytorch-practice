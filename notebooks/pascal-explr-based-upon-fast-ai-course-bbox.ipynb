{
  "cells": [
    {
      "metadata": {
        "_uuid": "8f2839f25d086af736a60e9eeb907d3b93b6e0e5",
        "_cell_guid": "b1076dfc-b9ad-4769-8c92-a6c4dae69d19",
        "trusted": true
      },
      "cell_type": "code",
      "source": "import json\nimport os\nfrom pathlib import Path\nimport time\nimport copy\n\nimport numpy as np\nimport pandas as pd\nimport torch\nfrom torch import nn, optim\nfrom torch.utils.data import Dataset, DataLoader\nfrom torchvision import models\nfrom fastai.dataset import open_image\nimport json\nfrom PIL import ImageDraw, ImageFont\nimport matplotlib.pyplot as plt\nfrom matplotlib import patches, patheffects\nimport cv2\nfrom tqdm import tqdm",
      "execution_count": null,
      "outputs": []
    },
    {
      "metadata": {
        "trusted": true,
        "_uuid": "118bf972c981d93118fe3b203b95d9094b85643e"
      },
      "cell_type": "code",
      "source": "# params\nSIZE = 224\nEPOCHS = 5\nBATCH_SIZE = 32\nNUM_WORKERS = 4\nSHOW_IMAGES = False\n\n# static\nIMAGES = 'images'\nANNOTATIONS = 'annotations'\nCATEGORIES = 'categories'\nID = 'id'\nNAME = 'name'\nIMAGE_ID = 'image_id'\nBBOX = 'bbox'\nCATEGORY_ID = 'category_id'\nFILE_NAME = 'file_name'\nIMAGE = 'image'\nCATEGORY = 'category'\nTRAIN = 'train'\nVAL = 'val'\nTEST = 'test'",
      "execution_count": null,
      "outputs": []
    },
    {
      "metadata": {
        "trusted": true,
        "_uuid": "1c3cbd58f17c3d2bec6fa63d3466b5174ae36066"
      },
      "cell_type": "code",
      "source": "device = torch.device(\"cuda:0\" if torch.cuda.is_available() else \"cpu\")\n# device = 'cpu'\nprint('device:', device)",
      "execution_count": null,
      "outputs": []
    },
    {
      "metadata": {
        "trusted": true,
        "_uuid": "8c132fd434c2843a1ad894aa36665272901d74f1"
      },
      "cell_type": "code",
      "source": "!ls ../input/pascal/pascal",
      "execution_count": null,
      "outputs": []
    },
    {
      "metadata": {
        "trusted": true,
        "_uuid": "3f0c759a56e66938c6739e49811c39275f5e1d3c"
      },
      "cell_type": "code",
      "source": "PATH = Path('../input/pascal/pascal')\nlist(PATH.iterdir())",
      "execution_count": null,
      "outputs": []
    },
    {
      "metadata": {
        "trusted": true,
        "_uuid": "73c706f2cf75e5859ba28933ca3cb5b6ca21d9a8"
      },
      "cell_type": "code",
      "source": "train_data = json.load((PATH/'pascal_train2007.json').open())\nval_data = json.load((PATH/'pascal_val2007.json').open())\ntest_data = json.load((PATH/'pascal_test2007.json').open())\n\nprint('train:', train_data.keys())\nprint('val:', val_data.keys())\nprint('test:', test_data.keys())",
      "execution_count": null,
      "outputs": []
    },
    {
      "metadata": {
        "trusted": true,
        "_uuid": "ef583f5efd5e4adf8093ca1f3dcf96febc4a2adf",
        "scrolled": true
      },
      "cell_type": "code",
      "source": "train_data[ANNOTATIONS][:1]",
      "execution_count": null,
      "outputs": []
    },
    {
      "metadata": {
        "trusted": true,
        "_uuid": "9a314f39827bd1e068ee355679491feb828137f1"
      },
      "cell_type": "code",
      "source": "train_data[IMAGES][:2]",
      "execution_count": null,
      "outputs": []
    },
    {
      "metadata": {
        "trusted": true,
        "_uuid": "f4a3cdc3f414c19e16cf66aabdbd43aca7fc3fda"
      },
      "cell_type": "code",
      "source": "len(train_data[CATEGORIES])",
      "execution_count": null,
      "outputs": []
    },
    {
      "metadata": {
        "trusted": true,
        "_uuid": "3f18ad0f37bdc398a5b1c56a7ab8fe8e93dc5393"
      },
      "cell_type": "code",
      "source": "next(iter(train_data[CATEGORIES]))",
      "execution_count": null,
      "outputs": []
    },
    {
      "metadata": {
        "trusted": true,
        "scrolled": true,
        "_uuid": "d14164141afed91ff611899627d1c52f0e6fddc5"
      },
      "cell_type": "code",
      "source": "categories = {c[ID]:c[NAME] for c in train_data[CATEGORIES]}\n\n# all categories are the same\nval_categories = {c[ID]:c[NAME] for c in val_data[CATEGORIES]}\ntest_categories = {c[ID]:c[NAME] for c in test_data[CATEGORIES]}\nassert categories == val_categories == test_categories\n\nprint('category count:', len(categories))\nprint(categories)",
      "execution_count": null,
      "outputs": []
    },
    {
      "metadata": {
        "trusted": true,
        "_uuid": "6820463abe2e61a1bc7abf40c74d43b3084e3d63"
      },
      "cell_type": "code",
      "source": "IMAGE_PATH = Path(PATH/'JPEGImages/')\nlist(IMAGE_PATH.iterdir())[:2]",
      "execution_count": null,
      "outputs": []
    },
    {
      "metadata": {
        "_uuid": "05af92ae8afeae8653c6a3379ffb1a6565f19875"
      },
      "cell_type": "markdown",
      "source": "Helper functions for setting up `pandas.DataFrame` fed to the torch `Dataset`"
    },
    {
      "metadata": {
        "trusted": true,
        "_uuid": "eef14d40a4490e9ae7c13fd04c7fedae26e39736"
      },
      "cell_type": "code",
      "source": "def get_filenames(data):\n    filenames = {o[ID]:o[FILE_NAME] for o in data[IMAGES]}\n    print('get_id_filename_dict')\n    print('length:', len(filenames), 'next item:', next(iter(filenames.items())))\n    return filenames",
      "execution_count": null,
      "outputs": []
    },
    {
      "metadata": {
        "trusted": true,
        "_uuid": "7cc5358a8140f7955bf68a8751fbc9a9b137c1b7"
      },
      "cell_type": "code",
      "source": "def get_image_ids(data):\n    image_ids = [o[ID] for o in data[IMAGES]]\n    print('get_image_ids')\n    print('length:', len(image_ids), 'next item:', image_ids[0])\n    return image_ids",
      "execution_count": null,
      "outputs": []
    },
    {
      "metadata": {
        "trusted": true,
        "_uuid": "70e3902fcbc1947d6d8c3afecbaf682395a5a51c"
      },
      "cell_type": "code",
      "source": "def pascal_bb_hw(bb):\n    return bb[2:]\n\nbbox = train_data[ANNOTATIONS][0][BBOX]\npascal_bb_hw(bbox)",
      "execution_count": null,
      "outputs": []
    },
    {
      "metadata": {
        "trusted": true,
        "_uuid": "aded585d69c9f525c13f1652f12b7c6bc9b3b4af"
      },
      "cell_type": "code",
      "source": "def get_image_w_area(data, image_ids):\n    image_w_area = {i:None for i in image_ids}\n    image_w_area = copy.deepcopy(image_w_area)\n    for x in data[ANNOTATIONS]:\n        bbox = x[BBOX]\n        new_category_id = x[CATEGORY_ID]\n        image_id = x[IMAGE_ID]\n        h, w = pascal_bb_hw(bbox)\n        new_area = h*w\n        cat_id_area = image_w_area[image_id]\n        if not cat_id_area:\n            image_w_area[image_id] = (new_category_id, new_area)\n        else:\n            category_id, area = cat_id_area\n            if new_area > area:\n                image_w_area[image_id] = (new_category_id, new_area)\n    print('get_image_w_area')\n    print('length:', len(image_w_area), 'next item:', next(iter(image_w_area.items())))\n    return image_w_area",
      "execution_count": null,
      "outputs": []
    },
    {
      "metadata": {
        "_uuid": "5831057753d8207fe69b73ef87206f5c5f5bbef0"
      },
      "cell_type": "markdown",
      "source": "train data structs"
    },
    {
      "metadata": {
        "trusted": true,
        "_uuid": "59c11bcf6e0b6a185f71b7256587e691f9c5ac65",
        "scrolled": true
      },
      "cell_type": "code",
      "source": "train_filenames = get_filenames(train_data)\ntrain_image_ids = get_image_ids(train_data)\ntrain_image_w_area = get_image_w_area(train_data, train_image_ids)",
      "execution_count": null,
      "outputs": []
    },
    {
      "metadata": {
        "_uuid": "56cd026ffbf9b08c56eeb8e33a46d2498272b422"
      },
      "cell_type": "markdown",
      "source": "## Locate the largest object's bbox"
    },
    {
      "metadata": {
        "trusted": true,
        "_uuid": "b02ed2de01c14ad6f23a69df8282b590ae02f4c5"
      },
      "cell_type": "code",
      "source": "train_data[ANNOTATIONS][0]",
      "execution_count": null,
      "outputs": []
    },
    {
      "metadata": {
        "trusted": true,
        "_uuid": "98fa9e400155b1ffdff527e6388206b215ad823d"
      },
      "cell_type": "code",
      "source": "def get_image_w_bbox(data, image_ids):\n    image_w_bbox = {i:None for i in image_ids}\n    for x in data[ANNOTATIONS]:\n        new_bbox = x[BBOX]\n        new_category_id = x[CATEGORY_ID]\n        image_id = x[IMAGE_ID]\n        h, w = pascal_bb_hw(new_bbox)\n        new_area = h*w\n        existing = image_w_bbox[image_id]\n        if not existing:\n            image_w_bbox[image_id] = (new_area, new_bbox, new_category_id)\n        else:\n            area, *_, area = existing\n            if new_area > area:\n                image_w_bbox[image_id] = (new_area, new_bbox, new_category_id)\n    return image_w_bbox\n\nimage_w_bbox = get_image_w_bbox(train_data, train_image_ids)",
      "execution_count": null,
      "outputs": []
    },
    {
      "metadata": {
        "_uuid": "30856dfd3f1adedcb2c9b97da1e2752151bab913"
      },
      "cell_type": "markdown",
      "source": "## Image functions"
    },
    {
      "metadata": {
        "trusted": true,
        "_uuid": "bf86120abaa279d5e4c02c537c7eed5568c0791b"
      },
      "cell_type": "code",
      "source": "def show_img(im, figsize=None, ax=None):\n    if not ax:\n        fig,ax = plt.subplots(figsize=figsize)\n    ax.imshow(im)\n    ax.get_xaxis().set_visible(False)\n    ax.get_yaxis().set_visible(False)\n    return ax\n\ndef draw_rect(ax, b):\n    patch = ax.add_patch(patches.Rectangle(b[:2], *b[-2:], fill=False, edgecolor='white', lw=2))\n    draw_outline(patch, 4)\n    \ndef draw_outline(o, lw):\n    o.set_path_effects([patheffects.Stroke(\n        linewidth=lw, foreground='black'), patheffects.Normal()])\n    \ndef draw_text(ax, xy, txt, sz=14):\n    text = ax.text(*xy, txt,\n        verticalalignment='top', color='white', fontsize=sz, weight='bold')\n    draw_outline(text, 1)",
      "execution_count": null,
      "outputs": []
    },
    {
      "metadata": {
        "_uuid": "86f3054970f23e318f415002bfc23f9610773bf4"
      },
      "cell_type": "markdown",
      "source": "show image with bbox - using the above image functions"
    },
    {
      "metadata": {
        "trusted": true,
        "_uuid": "d36f86ad86630424e27aede4b9f6fcaef73b75c7",
        "scrolled": true
      },
      "cell_type": "code",
      "source": "# image_id, (area, bbox, cat) = next(iter(image_w_bbox.items()))\n# fn = f'{IMAGE_PATH}/{train_filenames[image_id]}'\n# im = open_image(fn)\n# ax = show_img(im)\n# b = bbox\n# print(b)\n# draw_rect(ax, b)\n# draw_text(ax, b[:2], categories[cat])",
      "execution_count": null,
      "outputs": []
    },
    {
      "metadata": {
        "trusted": true,
        "_uuid": "998c7b07890ed21ef91716bae3f3b1a528c876fc"
      },
      "cell_type": "code",
      "source": "def scale_pascal_bb(bbox, image, size):\n    \"\"\"\n    Returns a bbox scaled to the target `size`\n    \n    Args:\n        bbox (1d array): pascal_bb [x, y, x2, y2]\n        image (3d array): HWC\n        size (scalar): target image size that bbox should be scaled to\n    \"\"\"\n    im_w = image.shape[1]\n    im_h = image.shape[0]\n    return np.multiply(np.divide(bbox, [im_w, im_h, im_w, im_h]), size)",
      "execution_count": null,
      "outputs": []
    },
    {
      "metadata": {
        "trusted": true,
        "_uuid": "68487202c6a4393a97dbae3e2161a4ae2ddb8117"
      },
      "cell_type": "code",
      "source": "# image_id, (area, bbox, cat) = next(iter(image_w_bbox.items()))\n# fn = f'{IMAGE_PATH}/{train_filenames[image_id]}'\n# im = open_image(fn)\n# resized_image = cv2.resize(im, (SIZE, SIZE)) # HW\n# ax = show_img(resized_image)\n# size=224\n# b = scale_pascal_bb(bbox, im, size)\n# print(b)\n# draw_rect(ax, b)\n# draw_text(ax, b[:2], categories[cat])",
      "execution_count": null,
      "outputs": []
    },
    {
      "metadata": {
        "trusted": true,
        "_uuid": "f12d200197783ecc8f9151e92e34f641ae0f1ae7"
      },
      "cell_type": "markdown",
      "source": "# Dataset\n\nScales image to (3, 224, 224) for Resnet18\n\nAlso scales the bbox"
    },
    {
      "metadata": {
        "trusted": true,
        "_uuid": "bf06c47245b78f73bf45744bf9d22bbc96c5ba07"
      },
      "cell_type": "code",
      "source": "next(iter(train_filenames.items()))",
      "execution_count": null,
      "outputs": []
    },
    {
      "metadata": {
        "trusted": true,
        "_uuid": "dae41d2e73eac8988c724245675e7fa168ce78b2"
      },
      "cell_type": "code",
      "source": "def get_full_filenames(id_filename_dict):\n    \"\"\"\n    Returns a list of 2 item tuples (image_id, image_full_path)\n    \n    Args:\n        id_filename_dict (dict): {image_id: filename}\n    \"\"\"\n    return [\n         (k, f'{IMAGE_PATH}/{v}')\n      for k,v in id_filename_dict.items()]\n\ntrain_full_filenames = get_full_filenames(train_filenames)",
      "execution_count": null,
      "outputs": []
    },
    {
      "metadata": {
        "trusted": true,
        "_uuid": "5ad228245cb563fd01887b5c562718267250ef8c"
      },
      "cell_type": "code",
      "source": "tff = next(iter(train_full_filenames))\ntff",
      "execution_count": null,
      "outputs": []
    },
    {
      "metadata": {
        "trusted": true,
        "_uuid": "aadacd79881877267e678f3a250f663e31594da9"
      },
      "cell_type": "code",
      "source": "open_image(tff[1]).shape",
      "execution_count": null,
      "outputs": []
    },
    {
      "metadata": {
        "trusted": true,
        "_uuid": "561e962700f7128bc857f7ba7d584e81c1109dc5"
      },
      "cell_type": "code",
      "source": "class BboxDataset(Dataset):\n    def __init__(self, full_filenames, data_bbox):\n        \"\"\"\n        Args:\n            full_filenames (list): [(image_id, image_full_path), ...]\n            data_bbox (dict): {image_id: (area, bbox, cat), ...}\n        \"\"\"\n        self.full_filenames = full_filenames\n        self.data_bbox = data_bbox\n\n    def __len__(self):\n        return len(self.full_filenames)\n    \n    def __getitem__(self, idx):\n        image_id, image_path = self.full_filenames[idx]\n        im = open_image(image_path) # HW\n        resized_image = cv2.resize(im, (SIZE, SIZE)) # HW\n        image = np.transpose(resized_image, (2, 0, 1)) # CHW\n        \n        _, bbox, cat = self.data_bbox[image_id]\n        scaled_bbox = scale_pascal_bb(bbox, im, SIZE)\n\n        return image_id, image, (scaled_bbox, cat)\n    \ndataset = BboxDataset(train_full_filenames, image_w_bbox)\nidx = 0\nimage_id, inputs, label = dataset[0]",
      "execution_count": null,
      "outputs": []
    },
    {
      "metadata": {
        "trusted": true,
        "_uuid": "55eff356d56fcaaf05f05654f1ea9bbae6487369"
      },
      "cell_type": "code",
      "source": "inputs.shape",
      "execution_count": null,
      "outputs": []
    },
    {
      "metadata": {
        "trusted": true,
        "_uuid": "2961fce17e0d2566b5147bd387fec5c416e73fea"
      },
      "cell_type": "code",
      "source": "label",
      "execution_count": null,
      "outputs": []
    },
    {
      "metadata": {
        "trusted": true,
        "_uuid": "0f76745c9b00c5054fdd6754726f109faf1e28ca"
      },
      "cell_type": "markdown",
      "source": "### Val Dataset"
    },
    {
      "metadata": {
        "_uuid": "dc912b4bcec1dbf1424ab63854189594e3b8bf9c"
      },
      "cell_type": "markdown",
      "source": "val data structs"
    },
    {
      "metadata": {
        "trusted": true,
        "_uuid": "c53f5ee76947eabdc7376b53a0a6d7537eeb1ce5"
      },
      "cell_type": "code",
      "source": "val_filenames = get_filenames(val_data)\nval_image_ids = get_image_ids(val_data)\nval_image_w_area = get_image_w_area(val_data, val_image_ids)",
      "execution_count": null,
      "outputs": []
    },
    {
      "metadata": {
        "trusted": true,
        "scrolled": true,
        "_uuid": "a17ef7d4f46b9768a4864a3ada985ff4e19b298d"
      },
      "cell_type": "code",
      "source": "val_full_filenames = get_full_filenames(val_filenames)\nnext(iter(val_full_filenames))",
      "execution_count": null,
      "outputs": []
    },
    {
      "metadata": {
        "trusted": true,
        "_uuid": "fb687858584f98a28bf11482faf4f488b94f3b89"
      },
      "cell_type": "code",
      "source": "val_image_w_bbox = get_image_w_bbox(val_data, val_image_ids)",
      "execution_count": null,
      "outputs": []
    },
    {
      "metadata": {
        "trusted": true,
        "_uuid": "3b41d4be4210fecae7ebead7df7438efc04f028f"
      },
      "cell_type": "code",
      "source": "val_dataset = BboxDataset(val_full_filenames, val_image_w_bbox)",
      "execution_count": null,
      "outputs": []
    },
    {
      "metadata": {
        "trusted": true,
        "_uuid": "6dc240d68ccc09416110c6bf725676740b7797e2"
      },
      "cell_type": "code",
      "source": "def preview_data(data):\n    print(f'type: {type(data)}')\n    if isinstance(data, (list, tuple)):\n        return data[0]\n    elif isinstance(data, dict):\n        return next(iter(data.items()))\n    else:\n        raise TypeError(f\"Unsupported type: {type(data)}\")",
      "execution_count": null,
      "outputs": []
    },
    {
      "metadata": {
        "trusted": true,
        "_uuid": "a9dd1514768aabbf4515d4cd96405e42e3902c47"
      },
      "cell_type": "code",
      "source": "preview_data(val_filenames)",
      "execution_count": null,
      "outputs": []
    },
    {
      "metadata": {
        "trusted": true,
        "_uuid": "7b2c8e4d3791745a72be5577ed04cf849731c0f9"
      },
      "cell_type": "code",
      "source": "val_data[ANNOTATIONS][0]",
      "execution_count": null,
      "outputs": []
    },
    {
      "metadata": {
        "trusted": true,
        "_uuid": "f1dc88d77addf4c3076f032ead3a72cae78aaafe"
      },
      "cell_type": "code",
      "source": "val_image_w_bbox = get_image_w_bbox(val_data, val_image_ids)\nnext(iter(val_image_w_bbox.items()))",
      "execution_count": null,
      "outputs": []
    },
    {
      "metadata": {
        "trusted": true,
        "_uuid": "0d15a1b2dd68048a004d1cd3f6d942fd9f93d2ea"
      },
      "cell_type": "code",
      "source": "print(preview_data(val_full_filenames))\nprint(preview_data(val_image_w_bbox))",
      "execution_count": null,
      "outputs": []
    },
    {
      "metadata": {
        "trusted": true,
        "_uuid": "bd39557992872ee8ea3035474f5a2c6d8c7497bf"
      },
      "cell_type": "code",
      "source": "val_dataset = BboxDataset(val_full_filenames, val_image_w_bbox)\nidx = 2\nimage_id, inputs, label = val_dataset[idx]\nimage_id, inputs.shape, label",
      "execution_count": null,
      "outputs": []
    },
    {
      "metadata": {
        "trusted": true,
        "_uuid": "24b5dc5f937f4d6396bb25c4bc89b198ecce6d0d"
      },
      "cell_type": "code",
      "source": "label",
      "execution_count": null,
      "outputs": []
    },
    {
      "metadata": {
        "trusted": true,
        "_uuid": "4691d10fcbe3b6d24cf57e38722978133297e293"
      },
      "cell_type": "code",
      "source": "# (bbox, cat) = label\n# ax = show_img(np.transpose(inputs, (1, 2, 0)))\n# b = bbox\n# print(b)\n# draw_rect(ax, b)\n# draw_text(ax, b[:2], categories[cat])",
      "execution_count": null,
      "outputs": []
    },
    {
      "metadata": {
        "_uuid": "aee3e2b623064ba3d19d75f9813e901596053c88"
      },
      "cell_type": "markdown",
      "source": "show the above image for the ground truth to see if it's correct"
    },
    {
      "metadata": {
        "trusted": true,
        "_uuid": "1e2eab90b15cdabb710ae72a6ba4efdc5e9386ef"
      },
      "cell_type": "code",
      "source": "image_id",
      "execution_count": null,
      "outputs": []
    },
    {
      "metadata": {
        "trusted": true,
        "_uuid": "12e82b990f90e3239c78b2db028e18c45bf6ae8b"
      },
      "cell_type": "code",
      "source": "idx = 2\nimage_id, filename = val_full_filenames[idx]\nimage_id, filename",
      "execution_count": null,
      "outputs": []
    },
    {
      "metadata": {
        "trusted": true,
        "_uuid": "465bcf05ddb1d524af5723e0226e1478dabb40e0"
      },
      "cell_type": "code",
      "source": "area, bbox, cat = val_image_w_bbox[image_id]\narea, bbox, cat",
      "execution_count": null,
      "outputs": []
    },
    {
      "metadata": {
        "trusted": true,
        "_uuid": "08d8fb438ecc856a500a0dfd1d75a49ddc790090"
      },
      "cell_type": "code",
      "source": "categories[cat]",
      "execution_count": null,
      "outputs": []
    },
    {
      "metadata": {
        "trusted": true,
        "_uuid": "34ecbab2dfac0befcb4c774c4ed2490e0836d539"
      },
      "cell_type": "code",
      "source": "im = open_image(filename)\nim.shape",
      "execution_count": null,
      "outputs": []
    },
    {
      "metadata": {
        "trusted": true,
        "_uuid": "08656dd9054e753b304690af1727afecf3a1cfd9"
      },
      "cell_type": "code",
      "source": "def fastai_bb(bb):\n    return np.array([bb[1], bb[0], bb[3]+bb[1]-1, bb[2]+bb[0]-1])\n\nprint(bbox)\nprint(fastai_bb(bbox))",
      "execution_count": null,
      "outputs": []
    },
    {
      "metadata": {
        "trusted": true,
        "_uuid": "b8cdddedeca3f539403aa1e28ebb8b9a81a735e7"
      },
      "cell_type": "code",
      "source": "fbb = fastai_bb(bbox)\nfbb",
      "execution_count": null,
      "outputs": []
    },
    {
      "metadata": {
        "trusted": true,
        "_uuid": "1ce11890ef052df4eddc2b2ae7c68ffa69151881"
      },
      "cell_type": "code",
      "source": "def fastai_bb_hw(bb):\n    h= bb[3]-bb[1]+1\n    w = bb[2]-bb[0]+1\n    return [h,w]\n\nfastai_bb_hw(fbb)",
      "execution_count": null,
      "outputs": []
    },
    {
      "metadata": {
        "trusted": true,
        "_uuid": "c0452e7a5f625fb0b5947f0fea21cf6ae6e00d19"
      },
      "cell_type": "code",
      "source": "def pascal_bb_hw(bb):\n    return bb[2:]\n\nbbox = train_data[ANNOTATIONS][0][BBOX]\npascal_bb_hw(bbox)",
      "execution_count": null,
      "outputs": []
    },
    {
      "metadata": {
        "_uuid": "d75f6c02fc275340aeaf75465da92ec2f12bca8e"
      },
      "cell_type": "markdown",
      "source": "# DataLoader"
    },
    {
      "metadata": {
        "trusted": true,
        "_uuid": "4832dc8acf67d3a16edaca67aabb76f0f0f5c2cc",
        "scrolled": true
      },
      "cell_type": "code",
      "source": "BATCH_SIZE = 64\nNUM_WORKERS = 0\n\ndataloader = DataLoader(dataset, batch_size=BATCH_SIZE,\n                        shuffle=True, num_workers=NUM_WORKERS)\n\nbatch_image_ids, batch_inputs, batch_labels = next(iter(dataloader))",
      "execution_count": null,
      "outputs": []
    },
    {
      "metadata": {
        "trusted": true,
        "_uuid": "269a237e6431a9bcd1ac391c83a2953ffefc16d3"
      },
      "cell_type": "code",
      "source": "batch_inputs.size()",
      "execution_count": null,
      "outputs": []
    },
    {
      "metadata": {
        "trusted": true,
        "_uuid": "2e2aa3d166a3a3d06428c466eff2eedf87c1addb"
      },
      "cell_type": "code",
      "source": "# batch_labels is a list, the first item is the \"batch bbox's\", 2nd item is \"batch categories\"",
      "execution_count": null,
      "outputs": []
    },
    {
      "metadata": {
        "trusted": true,
        "_uuid": "0de314aed0f39af822f66ea0a3a05cb7215ed0f9"
      },
      "cell_type": "code",
      "source": "len(batch_labels)",
      "execution_count": null,
      "outputs": []
    },
    {
      "metadata": {
        "trusted": true,
        "_uuid": "c95b87fa57f6dc0831ab33902a5902784505a413"
      },
      "cell_type": "code",
      "source": "batch_labels[0].size()",
      "execution_count": null,
      "outputs": []
    },
    {
      "metadata": {
        "trusted": true,
        "_uuid": "6d59ba062d102dc9754b657cb27fbbc6e0fb42bc"
      },
      "cell_type": "code",
      "source": "batch_labels[1].size()",
      "execution_count": null,
      "outputs": []
    },
    {
      "metadata": {
        "trusted": true,
        "_uuid": "e06eabcf6cfa35b8f19237013159f45b3994b5e7"
      },
      "cell_type": "code",
      "source": "# train the model",
      "execution_count": null,
      "outputs": []
    },
    {
      "metadata": {
        "trusted": true,
        "_uuid": "cd0f59df9865ed0bb5a58bf904f899f13948662f"
      },
      "cell_type": "code",
      "source": "NUM_CATEGORIES = len(categories)\nNUM_CATEGORIES",
      "execution_count": null,
      "outputs": []
    },
    {
      "metadata": {
        "_uuid": "579d5e724049115b6395bd0f5c86a8ed365c74cb"
      },
      "cell_type": "markdown",
      "source": "Val DataLoader"
    },
    {
      "metadata": {
        "trusted": true,
        "_uuid": "f713e876c4dcf690837fb9d82b23202b6cda01c6"
      },
      "cell_type": "code",
      "source": "val_dataloader = DataLoader(val_dataset, batch_size=BATCH_SIZE,\n                            shuffle=True, num_workers=NUM_WORKERS)",
      "execution_count": null,
      "outputs": []
    },
    {
      "metadata": {
        "_uuid": "a7682c44eaa2fcb66e5603fac3a1c80789173e2e"
      },
      "cell_type": "markdown",
      "source": "# Device check"
    },
    {
      "metadata": {
        "trusted": true,
        "_uuid": "04203f61bd0e53571a7b6acf41851f25ffd95e3f"
      },
      "cell_type": "code",
      "source": "print('DEVICE:', device)",
      "execution_count": null,
      "outputs": []
    },
    {
      "metadata": {
        "trusted": true,
        "_uuid": "8ea2db1005fcf7bfbae40f4b6ee8472f2afa045a",
        "scrolled": true
      },
      "cell_type": "code",
      "source": "model_ft = models.resnet18(pretrained=True)\n\nfor layer in model_ft.parameters():\n    layer.requires_grad = False\n    \nnum_ftrs = model_ft.fc.in_features\nIN_FEATURES = num_ftrs\n\nprint(IN_FEATURES, NUM_CATEGORIES)\n\n# model_ft.fc = nn.Linear(num_ftrs, NUM_CATEGORIES)\n\n# model_ft = model_ft.to(device)\n\n# criterion = nn.CrossEntropyLoss()\n\n# # Observe that all parameters are being optimized\n# optimizer = optim.SGD(model_ft.parameters(), lr=0.01, momentum=0.9)",
      "execution_count": null,
      "outputs": []
    },
    {
      "metadata": {
        "_uuid": "28cb7af73532423b1e88b568117ad108339583f1"
      },
      "cell_type": "markdown",
      "source": "# Custom head with single Layer fork to 2 outputs\n\n`[bbox preds, category preds]`"
    },
    {
      "metadata": {
        "trusted": true,
        "_uuid": "e25c083d66ba5205623870b5ba6cacc6d297c370"
      },
      "cell_type": "code",
      "source": "class BboxAndCatLayer(nn.Module):\n    def __init__(self):\n        super().__init__()\n        self.cat_layer = nn.Linear(IN_FEATURES, NUM_CATEGORIES)\n        self.bbox_layer = nn.Linear(IN_FEATURES, 4)\n        \n    def forward(self, x):\n        return (self.bbox_layer(x), self.cat_layer(x), )\n    \nmodel_ft.fc = BboxAndCatLayer()\n\nmodel_ft = model_ft.to(device)",
      "execution_count": null,
      "outputs": []
    },
    {
      "metadata": {
        "trusted": true,
        "_uuid": "fed3fa9c9d9019cbb0fb5fb87f3af2fffcf66a41"
      },
      "cell_type": "code",
      "source": "image_ids, inputs, labels = next(iter(dataloader))",
      "execution_count": null,
      "outputs": []
    },
    {
      "metadata": {
        "trusted": true,
        "_uuid": "7258deb811f6f2e934df84c1c356975ea488e10a"
      },
      "cell_type": "code",
      "source": "print(len(labels))\nprint(type(labels))\nprint(labels[0].size())\nprint(labels[0].dtype)\nprint(labels[1].size())\nprint(labels[1].dtype)",
      "execution_count": null,
      "outputs": []
    },
    {
      "metadata": {
        "trusted": true,
        "_uuid": "d49261cb65fa5e67a19df8373661d01a1af0e9da"
      },
      "cell_type": "code",
      "source": "(bbox_labels, cat_labels) = labels",
      "execution_count": null,
      "outputs": []
    },
    {
      "metadata": {
        "trusted": true,
        "_uuid": "0455c476673493338669067656ecbd3cba05b1d7"
      },
      "cell_type": "code",
      "source": "inputs.shape",
      "execution_count": null,
      "outputs": []
    },
    {
      "metadata": {
        "trusted": true,
        "_uuid": "32622ab1e1956c84452c90e321b07e1a238769ca"
      },
      "cell_type": "code",
      "source": "bbox_labels.size()",
      "execution_count": null,
      "outputs": []
    },
    {
      "metadata": {
        "trusted": true,
        "_uuid": "040ed39e29778f4a9779fb7352606a8ab81a4209"
      },
      "cell_type": "code",
      "source": "cat_labels.size()",
      "execution_count": null,
      "outputs": []
    },
    {
      "metadata": {
        "trusted": true,
        "_uuid": "f289d6c9a9b662cbe97c502b397fadeb30e97dbb"
      },
      "cell_type": "code",
      "source": "inputs = inputs.to(device)\noutputs = model_ft(inputs)",
      "execution_count": null,
      "outputs": []
    },
    {
      "metadata": {
        "trusted": true,
        "_uuid": "6c72e2b99a8c948b8fdc46f829ad821b6d4df903"
      },
      "cell_type": "code",
      "source": "type(outputs)",
      "execution_count": null,
      "outputs": []
    },
    {
      "metadata": {
        "trusted": true,
        "_uuid": "b85b6393aee6ba0488e591df3a2958eaa580032d"
      },
      "cell_type": "code",
      "source": "len(outputs)",
      "execution_count": null,
      "outputs": []
    },
    {
      "metadata": {
        "trusted": true,
        "_uuid": "35f10f5fb1eab2a361d64988892c3b0a2a587a58"
      },
      "cell_type": "code",
      "source": "type(outputs[0]), type(outputs[1])",
      "execution_count": null,
      "outputs": []
    },
    {
      "metadata": {
        "trusted": true,
        "_uuid": "8d83ac051865e958e6eb4ba8115762ef4c892187"
      },
      "cell_type": "code",
      "source": "outputs[0].size()",
      "execution_count": null,
      "outputs": []
    },
    {
      "metadata": {
        "trusted": true,
        "_uuid": "545f1dba2ea55d4776ecd198d71381c84c783d6a"
      },
      "cell_type": "code",
      "source": "outputs[1].size()",
      "execution_count": null,
      "outputs": []
    },
    {
      "metadata": {
        "trusted": true,
        "_uuid": "e971cba07d2faff7cb06e8c86d983951bcbb6caf"
      },
      "cell_type": "code",
      "source": "bbox_outputs, cat_outputs = outputs\nbbox_outputs.size(), cat_outputs.size()",
      "execution_count": null,
      "outputs": []
    },
    {
      "metadata": {
        "trusted": true,
        "_uuid": "08b79b88347a9b20066aae86fcf31f49f2d06ec9"
      },
      "cell_type": "code",
      "source": "_, cat_preds = torch.max(cat_outputs, dim=1)\ncat_preds.size()",
      "execution_count": null,
      "outputs": []
    },
    {
      "metadata": {
        "trusted": true,
        "_uuid": "1f3083587a5544c90179874697cb4f8152a1041e"
      },
      "cell_type": "code",
      "source": "preds = [bbox_outputs, cat_outputs]\n\nprint(preds[0].size())\nprint(preds[0].dtype)\nprint(preds[1].size())\nprint(preds[1].dtype)",
      "execution_count": null,
      "outputs": []
    },
    {
      "metadata": {
        "_uuid": "192761dbd806b976ed73be05f2abdb6a9c591259"
      },
      "cell_type": "markdown",
      "source": "# Loss Function - for custom head"
    },
    {
      "metadata": {
        "trusted": true,
        "_uuid": "a10e894157822eb8b43655c7cfdcb03376e1714b"
      },
      "cell_type": "code",
      "source": "class BboxAndCatLoss(nn.Module):\n    def __init__(self):\n        super().__init__()\n        self.bbox_loss = nn.L1Loss()\n        self.cat_loss = nn.CrossEntropyLoss()\n        \n    def forward(self, preds, targets):\n        bbox_preds, cat_preds = preds\n        bbox_targets, cat_targets = targets\n\n        # data munging\n        bbox_preds = bbox_preds.to(device, torch.float64)\n        cat_targets_0_indexed = cat_targets - 1\n        \n        # per type of loss\n        bbox_loss = self.bbox_loss(bbox_preds, bbox_targets)\n        cat_loss = self.cat_loss(cat_preds, cat_targets_0_indexed)\n        # cast b/c bbox_loss.dtype == torch.float64\n        cat_loss = cat_loss.to(device, dtype=torch.float64)\n        \n        return bbox_loss + cat_loss\n    \ncriterion = BboxAndCatLoss()\n\npreds = [p.to(device) for p in preds]\nlabels = [x.to(device) for x in labels]\n\nloss = criterion(preds, labels)\nloss",
      "execution_count": null,
      "outputs": []
    },
    {
      "metadata": {
        "_uuid": "c93c7ca14ef0121e2fdd0a02eb88d25ff2c616b8"
      },
      "cell_type": "markdown",
      "source": "# Train the model"
    },
    {
      "metadata": {
        "trusted": true,
        "_uuid": "5e12993fb2f17eb2da9dc6c97069b7308db44b89"
      },
      "cell_type": "code",
      "source": "# Observe that all parameters are being optimized\noptimizer = optim.SGD(model_ft.parameters(), lr=0.01, momentum=0.9)",
      "execution_count": null,
      "outputs": []
    },
    {
      "metadata": {
        "trusted": true,
        "_uuid": "bda133df2229ffc261fad8eeee5c58531e502b4a"
      },
      "cell_type": "code",
      "source": "TRAIN = 'train'\nVAL = 'val'\n\ndataloaders = {\n    TRAIN: dataloader,\n    VAL: val_dataloader\n}\n\ndataset_sizes = {\n    TRAIN: len(dataset),\n    VAL: len(val_dataset)\n}",
      "execution_count": null,
      "outputs": []
    },
    {
      "metadata": {
        "trusted": true,
        "_uuid": "a03afc1a50a6ca92ed8602552c9e527665e60928",
        "scrolled": true
      },
      "cell_type": "code",
      "source": "EPOCHS = 1\n\nepoch_losses = {TRAIN: [], VAL: []}\nepoch_accuracies = {TRAIN: [], VAL: []}\n\nfor epoch in tqdm(range(EPOCHS)):\n    print('epoch:', epoch)\n    \n    for phase in [TRAIN, VAL]:\n        running_loss = 0.0\n        running_correct = 0\n\n        for image_ids, inputs, labels in dataloader:\n            inputs = inputs.to(device)\n\n            # labels - separate to.(device) b/c labels is a list\n            (bbox_labels, cat_labels) = labels\n            bbox_labels = bbox_labels.to(device)\n            cat_labels = cat_labels.to(device)\n\n            # clear gradients\n            optimizer.zero_grad()\n\n            # forward pass\n            outputs = model_ft(inputs)\n            bbox_outputs, cat_outputs = outputs\n            _, preds = torch.max(cat_outputs, dim=1)\n            labels = [x.to(device) for x in labels]\n            loss = criterion(outputs, labels)\n\n            # backwards pass\n            if phase == TRAIN:\n                loss.backward()\n                optimizer.step()\n\n            running_loss += loss.item() * inputs.size(0)\n            labels_0_indexed = cat_labels - 1\n            running_correct += torch.sum(preds == labels_0_indexed)\n\n        # per epoch/phase\n        epoch_loss = running_loss / len(dataset)\n        epoch_acc = running_correct.double().item() / len(dataset)\n        epoch_losses[phase].append(epoch_loss)\n        epoch_accuracies[phase].append(epoch_acc)\n    print('train loss:', epoch_losses[TRAIN], 'train acc:', epoch_accuracies[TRAIN], 'val loss:', epoch_losses[VAL], 'val acc:', epoch_accuracies[VAL])",
      "execution_count": null,
      "outputs": []
    },
    {
      "metadata": {
        "trusted": true,
        "_uuid": "d52cd35bef54d5078d6dd9417e09cde397480d43"
      },
      "cell_type": "code",
      "source": "epoch_loss = running_loss / len(dataset)\nepoch_acc = running_correct.double().item() / len(dataset)\nepoch_losses.append(epoch_loss)\nepoch_accuracies.append(epoch_acc)\nprint('loss:', epoch_loss, 'acc:', epoch_acc)",
      "execution_count": null,
      "outputs": []
    },
    {
      "metadata": {
        "trusted": true,
        "scrolled": true,
        "_uuid": "f0c384b16ec56e5ef5d55a07f02f7c0afd2969db"
      },
      "cell_type": "code",
      "source": "# NEXT - epoch - w/ train and val",
      "execution_count": null,
      "outputs": []
    },
    {
      "metadata": {
        "trusted": true,
        "scrolled": true,
        "_uuid": "a99605c0507caf61edb48ab444eab717a0d46f39"
      },
      "cell_type": "code",
      "source": "",
      "execution_count": null,
      "outputs": []
    },
    {
      "metadata": {
        "trusted": true,
        "_uuid": "f64c8664a6f39865d8d4e5f9ee81131beea09d18"
      },
      "cell_type": "markdown",
      "source": "Graph loss and accuracy"
    },
    {
      "metadata": {
        "trusted": true,
        "_uuid": "180a093a6d69e456d65124a424c0013e3168de24"
      },
      "cell_type": "code",
      "source": "epoch_losses",
      "execution_count": null,
      "outputs": []
    },
    {
      "metadata": {
        "trusted": true,
        "_uuid": "b116d1d203132fa94e75e0fab51e7c0796b45cee",
        "scrolled": true
      },
      "cell_type": "code",
      "source": "epoch_accuracies",
      "execution_count": null,
      "outputs": []
    },
    {
      "metadata": {
        "trusted": true,
        "_uuid": "9003f7eb4ade3aed86de0bff8f72a36333fa9da0"
      },
      "cell_type": "code",
      "source": "# check predictions",
      "execution_count": null,
      "outputs": []
    },
    {
      "metadata": {
        "trusted": true,
        "_uuid": "b6f4f8403e5ec7d3caf855a8f59f79ee0a02a9e0"
      },
      "cell_type": "code",
      "source": "plt.plot(epoch_losses['train'])\nplt.plot(epoch_losses['val'])",
      "execution_count": null,
      "outputs": []
    },
    {
      "metadata": {
        "trusted": true,
        "_uuid": "e213712dcd365573dd26ac944f3ffeb447c04d64"
      },
      "cell_type": "code",
      "source": "plt.plot(epoch_accuracies['train'])\nplt.plot(epoch_accuracies['val'])",
      "execution_count": null,
      "outputs": []
    },
    {
      "metadata": {
        "trusted": true,
        "_uuid": "6d25af2735ed08a7f7c58393ecdc4c46b93b34cf"
      },
      "cell_type": "code",
      "source": "preds_count = len(preds)\nfig, axes = plt.subplots(1, preds_count, figsize=(16, 16))\nfor i, ax in enumerate(axes.flat):\n    im = np.transpose(inputs[i], (1, 2, 0))\n    ax = show_img(im, ax=ax)\n    draw_text(ax, (0,0), categories[preds[i].item()+1])",
      "execution_count": null,
      "outputs": []
    },
    {
      "metadata": {
        "trusted": true,
        "_uuid": "da1c9c11bc40a6fbcfca27245e999a27ad3a7e8d"
      },
      "cell_type": "code",
      "source": "epoch_losses = []\nepoch_accuracies = []\n\nfor epoch in tqdm(range(EPOCHS)):\n    print('epoch:', epoch)\n    running_loss = 0.0\n    running_correct = 0\n\n    for image_ids, inputs, labels in dataloader:\n        inputs = inputs.to(device)\n        \n        # labels\n        (bbox_labels, cat_labels) = labels\n        bbox_labels = bbox_labels.to(device)\n        cat_labels = cat_labels.to(device)\n\n        # clear gradients\n        optimizer.zero_grad()\n        \n        # forward pass\n        outputs = model_ft(inputs)\n        bbox_outputs, cat_outputs = outputs\n        _, preds = torch.max(cat_outputs, dim=1)\n        labels = [x.to(device) for x in labels]\n        loss = criterion(outputs, labels)\n        \n        # backwards pass\n        loss.backward()\n        optimizer.step()\n        \n        running_loss += loss.item() * inputs.size(0)\n        labels_0_indexed = cat_labels - 1\n        running_correct += torch.sum(preds == labels_0_indexed)\n        break\n    break\n        \n    epoch_loss = running_loss / len(dataset)\n    epoch_acc = running_correct.double().item() / len(dataset)\n    epoch_losses.append(epoch_loss)\n    epoch_accuracies.append(epoch_acc)\n    print('loss:', epoch_loss, 'acc:', epoch_acc)",
      "execution_count": null,
      "outputs": []
    },
    {
      "metadata": {
        "trusted": true,
        "_uuid": "fa784a5f5caa7b2133058e88ee862feea05190ea"
      },
      "cell_type": "code",
      "source": "",
      "execution_count": null,
      "outputs": []
    },
    {
      "metadata": {
        "trusted": true,
        "_uuid": "5329ab7522218da06396c6a50ce7dd56b378e8c7"
      },
      "cell_type": "code",
      "source": "",
      "execution_count": null,
      "outputs": []
    },
    {
      "metadata": {
        "trusted": true,
        "_uuid": "da3d9ef954def5eccf21924c84cdb920f4d44dd2"
      },
      "cell_type": "code",
      "source": "",
      "execution_count": null,
      "outputs": []
    },
    {
      "metadata": {
        "trusted": true,
        "_uuid": "153360f2a4920bb8446d64c0422278ef2e11376a"
      },
      "cell_type": "code",
      "source": "inputs = inputs.to(device)\nlabels = labels.to(device)",
      "execution_count": null,
      "outputs": []
    },
    {
      "metadata": {
        "trusted": true,
        "_uuid": "ce6a24f9db2d688f8d4465015306ec47ac6a08f5"
      },
      "cell_type": "code",
      "source": "outputs = model_ft(inputs)\n_, preds = torch.max(outputs, dim=1)\nlabels_0_indexed = labels - 1",
      "execution_count": null,
      "outputs": []
    },
    {
      "metadata": {
        "trusted": true,
        "_uuid": "2dae117d5c3bcbfb7a8583e8f63e9ec9e20d9a32"
      },
      "cell_type": "code",
      "source": "torch.sum(labels_0_indexed == preds)",
      "execution_count": null,
      "outputs": []
    },
    {
      "metadata": {
        "trusted": true,
        "_uuid": "aa4edad663fc4631cfdcf1aa664e5fa5cb68efa1"
      },
      "cell_type": "code",
      "source": "labels_0_indexed[0]",
      "execution_count": null,
      "outputs": []
    },
    {
      "metadata": {
        "trusted": true,
        "_uuid": "dfa4def54daf9442cca55e5053df52167293bfae"
      },
      "cell_type": "code",
      "source": "preds[0]",
      "execution_count": null,
      "outputs": []
    },
    {
      "metadata": {
        "trusted": true,
        "_uuid": "619922d1c43d012feb133a6c6f1c5309df086313"
      },
      "cell_type": "code",
      "source": "categories[2]",
      "execution_count": null,
      "outputs": []
    },
    {
      "metadata": {
        "trusted": true,
        "_uuid": "f81f048659db6bc838c1cd999976032cc4a967dd"
      },
      "cell_type": "code",
      "source": "inputs[0].shape",
      "execution_count": null,
      "outputs": []
    },
    {
      "metadata": {
        "trusted": true,
        "_uuid": "99d5e3b978b6b03a604571ad20abb6321e4da636"
      },
      "cell_type": "code",
      "source": "# plt.imshow(np.transpose(inputs[0], (1, 2, 0)))",
      "execution_count": null,
      "outputs": []
    },
    {
      "metadata": {
        "trusted": true,
        "_uuid": "6e6b136edabd9d694eed2a6d076f13efe40db4a1"
      },
      "cell_type": "code",
      "source": "",
      "execution_count": null,
      "outputs": []
    },
    {
      "metadata": {
        "trusted": true,
        "_uuid": "0a53857219eeba7bfbc882510f0012ceda585fa1"
      },
      "cell_type": "code",
      "source": "labels",
      "execution_count": null,
      "outputs": []
    },
    {
      "metadata": {
        "trusted": true,
        "_uuid": "fa9e7001794cb8a7fd8bc43b01d6028ba218313a"
      },
      "cell_type": "code",
      "source": "labels-1",
      "execution_count": null,
      "outputs": []
    },
    {
      "metadata": {
        "trusted": true,
        "_uuid": "82a00508c12940d79642b71f0d78f0ea3072ed6c"
      },
      "cell_type": "code",
      "source": "criterion(outputs, labels-1)",
      "execution_count": null,
      "outputs": []
    },
    {
      "metadata": {
        "trusted": true,
        "_uuid": "258d0e75e74c20a6f18fbbe44a8abc6867890106"
      },
      "cell_type": "code",
      "source": "torch.sum(preds == labels)",
      "execution_count": null,
      "outputs": []
    },
    {
      "metadata": {
        "trusted": true,
        "_uuid": "739deb36b4fb41dc623baf041865178cbf4aba36"
      },
      "cell_type": "code",
      "source": "a = torch.Tensor([1, 2])\nb = torch.Tensor([1, 3])\ntorch.sum(a == b)",
      "execution_count": null,
      "outputs": []
    },
    {
      "metadata": {
        "trusted": true,
        "_uuid": "f98c9ee970b6015745c08d2ee7229fd35b93b351"
      },
      "cell_type": "code",
      "source": "",
      "execution_count": null,
      "outputs": []
    },
    {
      "metadata": {
        "trusted": true,
        "_uuid": "caf7a9fa12e1745eebfbb69fed75a7094b5e1f66"
      },
      "cell_type": "code",
      "source": "t = torch.randn(2, 3)\ntorch.max(t, dim=1)",
      "execution_count": null,
      "outputs": []
    },
    {
      "metadata": {
        "trusted": true,
        "_uuid": "fe4400a20cde7d091f070704754939c187d8d8ac"
      },
      "cell_type": "code",
      "source": "inputs.shape",
      "execution_count": null,
      "outputs": []
    },
    {
      "metadata": {
        "trusted": true,
        "_uuid": "bb182421ae3959cbf824f5a7d6c20512f65d7cad"
      },
      "cell_type": "code",
      "source": "",
      "execution_count": null,
      "outputs": []
    },
    {
      "metadata": {
        "trusted": true,
        "_uuid": "7c8c8f67e2bde59b9b2c735c106e28d612d9f172"
      },
      "cell_type": "code",
      "source": "to_nchw(inputs).shape",
      "execution_count": null,
      "outputs": []
    },
    {
      "metadata": {
        "trusted": true,
        "_uuid": "87625dcb168ac0224f7ba4fb30202f81992859de"
      },
      "cell_type": "code",
      "source": "",
      "execution_count": null,
      "outputs": []
    },
    {
      "metadata": {
        "trusted": true,
        "_uuid": "f7b1f3d18c9ef2a9d8c89645fca241ed89cf6927"
      },
      "cell_type": "code",
      "source": "train_df.iloc[0]",
      "execution_count": null,
      "outputs": []
    },
    {
      "metadata": {
        "trusted": true,
        "_uuid": "62b40a3dcd0934f145475c989c5b9034ff27ada3"
      },
      "cell_type": "code",
      "source": "image1_filename = train_df.iloc[0][IMAGE]\nimage1_filename",
      "execution_count": null,
      "outputs": []
    },
    {
      "metadata": {
        "trusted": true,
        "_uuid": "c275a539fc057475d3e8954243f49fb7ceb580df"
      },
      "cell_type": "code",
      "source": "im = cv2.imread(image1_filename)",
      "execution_count": null,
      "outputs": []
    },
    {
      "metadata": {
        "trusted": true,
        "_uuid": "693bc656f314d7e0dcfe8a7013138e18e3a59699"
      },
      "cell_type": "code",
      "source": "im.shape",
      "execution_count": null,
      "outputs": []
    },
    {
      "metadata": {
        "trusted": true,
        "_uuid": "74c0b9d83fa5eaba86be11b2daf7bfb80ff882ee"
      },
      "cell_type": "code",
      "source": "im = cv2.imread(image1_filename, 0)\nim.shape",
      "execution_count": null,
      "outputs": []
    },
    {
      "metadata": {
        "trusted": true,
        "_uuid": "46b0cf9f0f6abbb462b919f044d70735c37bd19d"
      },
      "cell_type": "code",
      "source": "np.array([im]).shape",
      "execution_count": null,
      "outputs": []
    },
    {
      "metadata": {
        "trusted": true,
        "_uuid": "b98e102ef80702436525f0477d68ec8d44f0f467"
      },
      "cell_type": "code",
      "source": "im.shape",
      "execution_count": null,
      "outputs": []
    },
    {
      "metadata": {
        "trusted": true,
        "_uuid": "3a31c3680fc95cba2f942d122b3d60e8d9fd9cb0"
      },
      "cell_type": "code",
      "source": "type(im)",
      "execution_count": null,
      "outputs": []
    },
    {
      "metadata": {
        "trusted": true,
        "_uuid": "c5e71bdb32a806e83910f13355352a47a4962e02"
      },
      "cell_type": "code",
      "source": "cv2.resize()",
      "execution_count": null,
      "outputs": []
    },
    {
      "metadata": {
        "trusted": true,
        "scrolled": true,
        "_uuid": "cde0b3de2eb2bb01c954be68c27030904008793d"
      },
      "cell_type": "code",
      "source": "import cv2\nSIZE = 224\nresized_im = cv2.resize(im, (SIZE, SIZE))\nplt.imshow(resized_im)",
      "execution_count": null,
      "outputs": []
    },
    {
      "metadata": {
        "trusted": true,
        "_uuid": "efbce361eb033d2644b2cf822771e962bb0b278c"
      },
      "cell_type": "code",
      "source": "resized_im = cv2.resize(im, (SIZE, SIZE))\nplt.imshow(resized_im)",
      "execution_count": null,
      "outputs": []
    },
    {
      "metadata": {
        "trusted": true,
        "_uuid": "3e4c8297c1c640951cdddec4531ca7772ed14f7d"
      },
      "cell_type": "code",
      "source": "",
      "execution_count": null,
      "outputs": []
    },
    {
      "metadata": {
        "trusted": true,
        "_uuid": "d3f244a87c148e456a813440fe489a14282df545"
      },
      "cell_type": "code",
      "source": "",
      "execution_count": null,
      "outputs": []
    },
    {
      "metadata": {
        "trusted": true,
        "_uuid": "2ad1930632f31d89d8c173415b6f4a95ea4dcea6"
      },
      "cell_type": "code",
      "source": "",
      "execution_count": null,
      "outputs": []
    },
    {
      "metadata": {
        "trusted": true,
        "_uuid": "2e4ae71a1dfa4cad7593df79770635f4437b11cd"
      },
      "cell_type": "code",
      "source": "",
      "execution_count": null,
      "outputs": []
    },
    {
      "metadata": {
        "trusted": true,
        "_uuid": "1cb82d897d342a0b10498b66af87f97f89c21086"
      },
      "cell_type": "code",
      "source": "scaled_item = scale(item[IMAGE], item[CATEGORY])\nlen(scaled_item) ",
      "execution_count": null,
      "outputs": []
    },
    {
      "metadata": {
        "trusted": true,
        "_uuid": "61da8ac5501b76bae02ed94b57a4194df456a420"
      },
      "cell_type": "code",
      "source": "scaled_x, scaled_y = scaled_item\nscaled_x.shape",
      "execution_count": null,
      "outputs": []
    },
    {
      "metadata": {
        "trusted": true,
        "_uuid": "8deba302b67a030e06240344cec088b637c45e43"
      },
      "cell_type": "code",
      "source": "scaled_y",
      "execution_count": null,
      "outputs": []
    },
    {
      "metadata": {
        "trusted": true,
        "_uuid": "a396b81e70ca84475df703430bff5209c0b3b9c9"
      },
      "cell_type": "code",
      "source": "",
      "execution_count": null,
      "outputs": []
    },
    {
      "metadata": {
        "trusted": true,
        "_uuid": "bce72ed03954034ac9883da0f1638b2b8d03441f"
      },
      "cell_type": "code",
      "source": "",
      "execution_count": null,
      "outputs": []
    },
    {
      "metadata": {
        "trusted": true,
        "_uuid": "94b1872e043f13a28fb809085ee7ddcf4783e1ab"
      },
      "cell_type": "code",
      "source": "train_df.iloc[0]",
      "execution_count": null,
      "outputs": []
    },
    {
      "metadata": {
        "trusted": true,
        "_uuid": "25c3df314f9e5b32602165e835d51b6077707618"
      },
      "cell_type": "code",
      "source": "def show_random_image():\n    item = dataset[np.random.randint(0, 100)]\n    print(categories[item[CATEGORY]])\n    plt.imshow(item[IMAGE])\n\nshow_random_image()",
      "execution_count": null,
      "outputs": []
    },
    {
      "metadata": {
        "trusted": true,
        "_uuid": "bac60d8e9eff4b9297ddfd6f2813f518d7c0e8cf"
      },
      "cell_type": "code",
      "source": "",
      "execution_count": null,
      "outputs": []
    },
    {
      "metadata": {
        "trusted": true,
        "_uuid": "eb8c75a789e7926fe3ba091b57e647b2a63a2907"
      },
      "cell_type": "code",
      "source": "dataloader = DataLoader(dataset, batch_size=4,\n                        shuffle=True, num_workers=4)\n\nnext(iter(dataloader))",
      "execution_count": null,
      "outputs": []
    },
    {
      "metadata": {
        "trusted": true,
        "_uuid": "a1f07c34a4d8fe14d7e52aa5604e54580ab1af41"
      },
      "cell_type": "code",
      "source": "import torchvision\n\ndef imshow(inp, title=None):\n    \"\"\"Imshow for Tensor.\"\"\"\n    inp = inp.numpy().transpose((1, 2, 0))\n    mean = np.array([0.485, 0.456, 0.406])\n    std = np.array([0.229, 0.224, 0.225])\n    inp = std * inp + mean\n    inp = np.clip(inp, 0, 1)\n    plt.imshow(inp)\n    if title is not None:\n        plt.title(title)\n    plt.pause(0.001)  # pause a bit so that plots are updated\n\n# Get a batch of training data\ninputs, classes = next(iter(dataloader))",
      "execution_count": null,
      "outputs": []
    },
    {
      "metadata": {
        "trusted": true,
        "_uuid": "2526f13dbb6f1a693986967dd9f048e482378778"
      },
      "cell_type": "code",
      "source": "# # Make a grid from batch\n# out = torchvision.utils.make_grid(inputs)\n\n# imshow(out, title=[class_names[x] for x in classes])",
      "execution_count": null,
      "outputs": []
    },
    {
      "metadata": {
        "trusted": true,
        "_uuid": "5c4ff7d0b04b2a6599b4a2385859db425eac26fc"
      },
      "cell_type": "code",
      "source": "classes",
      "execution_count": null,
      "outputs": []
    },
    {
      "metadata": {
        "trusted": true,
        "_uuid": "f302cab600d1d5045e49182728f209923cd07009"
      },
      "cell_type": "code",
      "source": "",
      "execution_count": null,
      "outputs": []
    },
    {
      "metadata": {
        "trusted": true,
        "_uuid": "c9e7aefb8f5752415845657ee04c5741b769852c"
      },
      "cell_type": "code",
      "source": "",
      "execution_count": null,
      "outputs": []
    },
    {
      "metadata": {
        "trusted": true,
        "_uuid": "f6691dce5725106171eae48ea4fa1a57a81522d5"
      },
      "cell_type": "code",
      "source": "",
      "execution_count": null,
      "outputs": []
    },
    {
      "metadata": {
        "trusted": true,
        "scrolled": true,
        "_uuid": "57eb30fef2ea573c74c02e5bf3f4120fa23bf488"
      },
      "cell_type": "code",
      "source": "train_filenames",
      "execution_count": null,
      "outputs": []
    },
    {
      "metadata": {
        "trusted": true,
        "_uuid": "3376032dd129557d6af655eae0fabe7d0dcd03f8"
      },
      "cell_type": "code",
      "source": "train_image_w_area",
      "execution_count": null,
      "outputs": []
    },
    {
      "metadata": {
        "trusted": true,
        "_uuid": "e01bcffcee5ce3ebce8fbe690e1b920ac953ed19"
      },
      "cell_type": "code",
      "source": "",
      "execution_count": null,
      "outputs": []
    },
    {
      "metadata": {
        "trusted": true,
        "_uuid": "02031bedc759096f22a03bf8893b316736bbc123"
      },
      "cell_type": "code",
      "source": "",
      "execution_count": null,
      "outputs": []
    },
    {
      "metadata": {
        "trusted": true,
        "_uuid": "84dd747de59043afe11b449471e73f4768244f47"
      },
      "cell_type": "code",
      "source": "# object classification",
      "execution_count": null,
      "outputs": []
    },
    {
      "metadata": {
        "trusted": true,
        "_uuid": "745fe46d0f1d9929c114718387aba22ad9d53639"
      },
      "cell_type": "code",
      "source": "model = models.resnet18(pretrained=True)",
      "execution_count": null,
      "outputs": []
    },
    {
      "metadata": {
        "trusted": true,
        "_uuid": "a2fd8ffd18880cc64bd373257624ff86faa6cbee"
      },
      "cell_type": "code",
      "source": "for layer in model.parameters():\n    layer.requires_grad = False",
      "execution_count": null,
      "outputs": []
    },
    {
      "metadata": {
        "trusted": true,
        "_uuid": "97118a358427cc245776b30e7aaf2a894d5e8ab2"
      },
      "cell_type": "code",
      "source": "fc_in_features = model.fc.in_features\nfc_in_features",
      "execution_count": null,
      "outputs": []
    },
    {
      "metadata": {
        "trusted": true,
        "_uuid": "70391d7f3c4056281acffb626ad9636e7d145fb9"
      },
      "cell_type": "code",
      "source": "model.fc = nn.Linear(fc_in_features, len(categories))",
      "execution_count": null,
      "outputs": []
    },
    {
      "metadata": {
        "trusted": true,
        "_uuid": "80a29ccd09d354969ddab088bf9bb963ab2c456a"
      },
      "cell_type": "code",
      "source": "loss_func = nn.CrossEntropyLoss()",
      "execution_count": null,
      "outputs": []
    },
    {
      "metadata": {
        "trusted": true,
        "_uuid": "8a67c09b339566e2e4de004beac58545eee1b542"
      },
      "cell_type": "code",
      "source": "optimizer = optim.SGD(model.parameters(), lr=1e-3)",
      "execution_count": null,
      "outputs": []
    },
    {
      "metadata": {
        "trusted": true,
        "_uuid": "a4a5cc5e0655f8c89342d16784bf95ce6385ae97"
      },
      "cell_type": "code",
      "source": "# need to read images with \"skimage\" or \"cv2\" and do DataSet / DataLoader config first before running model",
      "execution_count": null,
      "outputs": []
    },
    {
      "metadata": {
        "trusted": true,
        "_uuid": "7b3717cbd5ace8c41e9b27cbdc3b0b5e5bc2058f"
      },
      "cell_type": "code",
      "source": "from skimage import io",
      "execution_count": null,
      "outputs": []
    },
    {
      "metadata": {
        "trusted": true,
        "_uuid": "d50bf3d41fad3a07dc72e9c7d12bc05da1dde723"
      },
      "cell_type": "code",
      "source": "image0 = io.imread(list(IMAGE_PATH.iterdir())[0])\nimage0.shape",
      "execution_count": null,
      "outputs": []
    },
    {
      "metadata": {
        "trusted": true,
        "_uuid": "42bddd466cfef27b0c74cc8f7bdbe7fe58029c40"
      },
      "cell_type": "code",
      "source": "",
      "execution_count": null,
      "outputs": []
    }
  ],
  "metadata": {
    "kernelspec": {
      "display_name": "Python 3",
      "language": "python",
      "name": "python3"
    },
    "language_info": {
      "name": "python",
      "version": "3.6.6",
      "mimetype": "text/x-python",
      "codemirror_mode": {
        "name": "ipython",
        "version": 3
      },
      "pygments_lexer": "ipython3",
      "nbconvert_exporter": "python",
      "file_extension": ".py"
    }
  },
  "nbformat": 4,
  "nbformat_minor": 1
}