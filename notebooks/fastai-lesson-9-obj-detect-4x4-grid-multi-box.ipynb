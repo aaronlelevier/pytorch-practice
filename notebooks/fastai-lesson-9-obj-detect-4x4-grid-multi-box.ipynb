{
  "cells": [
    {
      "metadata": {
        "_cell_guid": "b1076dfc-b9ad-4769-8c92-a6c4dae69d19",
        "_uuid": "8f2839f25d086af736a60e9eeb907d3b93b6e0e5",
        "trusted": true
      },
      "cell_type": "code",
      "source": "import json\nimport os\nfrom pathlib import Path\nimport time\nimport copy\nimport datetime\nimport collections\nimport random\nimport platform\n\nimport numpy as np\nimport pandas as pd\nimport torch\nfrom torch import nn, optim\nfrom torch.utils.data import Dataset, DataLoader\nfrom torchvision import models\nfrom fastai.dataset import open_image\nimport json\nfrom PIL import ImageDraw, ImageFont\nimport matplotlib.pyplot as plt\nfrom matplotlib import patches, patheffects\nimport cv2\nfrom tqdm import tqdm",
      "execution_count": null,
      "outputs": []
    },
    {
      "metadata": {
        "_uuid": "118bf972c981d93118fe3b203b95d9094b85643e",
        "trusted": true
      },
      "cell_type": "code",
      "source": "# params\nSIZE = 224\nEPOCHS = 5\nBATCH_SIZE = 32\nNUM_WORKERS = 4\nSHOW_IMAGES = False\n\n# static\nIMAGES = 'images'\nANNOTATIONS = 'annotations'\nCATEGORIES = 'categories'\nID = 'id'\nNAME = 'name'\nIMAGE_ID = 'image_id'\nBBOX = 'bbox'\nCATEGORY_ID = 'category_id'\nFILE_NAME = 'file_name'\nIMAGE = 'image'\nCATEGORY = 'category'\nTRAIN = 'train'\nVAL = 'val'\nTEST = 'test'",
      "execution_count": null,
      "outputs": []
    },
    {
      "metadata": {
        "_uuid": "1c3cbd58f17c3d2bec6fa63d3466b5174ae36066",
        "trusted": true
      },
      "cell_type": "code",
      "source": "device = torch.device(\"cuda:0\" if torch.cuda.is_available() else \"cpu\")\ndevice = 'cpu'\nprint('device:', device)",
      "execution_count": null,
      "outputs": []
    },
    {
      "metadata": {
        "_uuid": "734c33e32f7ebd091b5c26a2d4e72661d364e6e7"
      },
      "cell_type": "markdown",
      "source": "Adjust data dir path for Paperspace or Kaggle"
    },
    {
      "metadata": {
        "_uuid": "8c6a0460814f93fd64df21fc1348736b891ed1c2",
        "trusted": true
      },
      "cell_type": "code",
      "source": "home_dir = os.path.expanduser('~')\n\nif platform.system() == 'Darwin': # MAC\n    DATA_DIR = '/Users/aaron/data/VOC2007/trainval/VOCdevkit/VOC2007/'\nelif home_dir == '/home/paperspace':\n    DATA_DIR = '/home/paperspace/data/pascal'\nelse: # kaggle\n    DATA_DIR = '../input/pascal/pascal'",
      "execution_count": null,
      "outputs": []
    },
    {
      "metadata": {
        "_uuid": "3f0c759a56e66938c6739e49811c39275f5e1d3c",
        "trusted": true
      },
      "cell_type": "code",
      "source": "PATH = Path(DATA_DIR)\nlist(PATH.iterdir())",
      "execution_count": null,
      "outputs": []
    },
    {
      "metadata": {
        "_uuid": "73c706f2cf75e5859ba28933ca3cb5b6ca21d9a8",
        "trusted": true
      },
      "cell_type": "code",
      "source": "train_data = json.load((PATH/'pascal_train2007.json').open())\nval_data = json.load((PATH/'pascal_val2007.json').open())\ntest_data = json.load((PATH/'pascal_test2007.json').open())\n\nprint('train:', train_data.keys())\nprint('val:', val_data.keys())\nprint('test:', test_data.keys())",
      "execution_count": null,
      "outputs": []
    },
    {
      "metadata": {
        "_uuid": "b64e18e88771a9b047ed542a7a98466ddcab8d35",
        "trusted": true
      },
      "cell_type": "code",
      "source": "def preview_data(data):\n    if isinstance(data, (list, tuple)):\n        return data[0]\n    elif isinstance(data, dict):\n        return next(iter(data.items()))\n    else:\n        raise TypeError(f\"Unsupported type: {type(data)}\")",
      "execution_count": null,
      "outputs": []
    },
    {
      "metadata": {
        "_uuid": "7896f1a629da6bfeb585749ff21a5a2e59ba0886",
        "trusted": true
      },
      "cell_type": "code",
      "source": "train_data.keys()",
      "execution_count": null,
      "outputs": []
    },
    {
      "metadata": {
        "_uuid": "ef583f5efd5e4adf8093ca1f3dcf96febc4a2adf",
        "scrolled": true,
        "trusted": true
      },
      "cell_type": "code",
      "source": "preview_data(train_data[ANNOTATIONS])",
      "execution_count": null,
      "outputs": []
    },
    {
      "metadata": {
        "_uuid": "9a314f39827bd1e068ee355679491feb828137f1",
        "trusted": true
      },
      "cell_type": "code",
      "source": "preview_data(train_data[IMAGES])",
      "execution_count": null,
      "outputs": []
    },
    {
      "metadata": {
        "_uuid": "f4a3cdc3f414c19e16cf66aabdbd43aca7fc3fda",
        "trusted": true
      },
      "cell_type": "code",
      "source": "categories = train_data[CATEGORIES]\n\nNUM_CATEGORIES = len(categories)\nprint('category count:', NUM_CATEGORIES)",
      "execution_count": null,
      "outputs": []
    },
    {
      "metadata": {
        "_uuid": "d14164141afed91ff611899627d1c52f0e6fddc5",
        "scrolled": true,
        "trusted": true
      },
      "cell_type": "code",
      "source": "# all categories are the same\ntrain_categories = {c[ID]:c[NAME] for c in train_data[CATEGORIES]}\nval_categories = {c[ID]:c[NAME] for c in val_data[CATEGORIES]}\ntest_categories = {c[ID]:c[NAME] for c in test_data[CATEGORIES]}\nassert train_categories == val_categories == test_categories\n\ncategories = train_categories\nprint(categories)",
      "execution_count": null,
      "outputs": []
    },
    {
      "metadata": {
        "_uuid": "6820463abe2e61a1bc7abf40c74d43b3084e3d63",
        "trusted": true
      },
      "cell_type": "code",
      "source": "IMAGE_PATH = Path(PATH/'JPEGImages/')\nlist(IMAGE_PATH.iterdir())[:2]",
      "execution_count": null,
      "outputs": []
    },
    {
      "metadata": {
        "_uuid": "05af92ae8afeae8653c6a3379ffb1a6565f19875"
      },
      "cell_type": "markdown",
      "source": "Helper functions for setting up `pandas.DataFrame` fed to the torch `Dataset`"
    },
    {
      "metadata": {
        "_uuid": "eef14d40a4490e9ae7c13fd04c7fedae26e39736",
        "trusted": true
      },
      "cell_type": "code",
      "source": "def get_filenames(data):\n    filenames = {o[ID]:o[FILE_NAME] for o in data[IMAGES]}\n    print('get_id_filename_dict')\n    print('length:', len(filenames), 'next item:', next(iter(filenames.items())))\n    return filenames",
      "execution_count": null,
      "outputs": []
    },
    {
      "metadata": {
        "_uuid": "7cc5358a8140f7955bf68a8751fbc9a9b137c1b7",
        "trusted": true
      },
      "cell_type": "code",
      "source": "def get_image_ids(data):\n    image_ids = [o[ID] for o in data[IMAGES]]\n    print('get_image_ids')\n    print('length:', len(image_ids), 'next item:', image_ids[0])\n    return image_ids",
      "execution_count": null,
      "outputs": []
    },
    {
      "metadata": {
        "_uuid": "70e3902fcbc1947d6d8c3afecbaf682395a5a51c",
        "trusted": true
      },
      "cell_type": "code",
      "source": "def pascal_bb_hw(bb):\n    return bb[2:]\n\nbbox = train_data[ANNOTATIONS][0][BBOX]\npascal_bb_hw(bbox)",
      "execution_count": null,
      "outputs": []
    },
    {
      "metadata": {
        "_uuid": "e67e8bf5b70514bae326af9f92ebe99d89addeb5",
        "trusted": true
      },
      "cell_type": "code",
      "source": "def get_full_filenames(id_filename_dict):\n    # Returns a list of 2 item tuples (image_id, image_full_path)\n    print('get_full_filenames')\n    ret = [(k, f'{IMAGE_PATH}/{v}') for k,v in id_filename_dict.items()]\n    print(preview_data(ret))\n    return ret",
      "execution_count": null,
      "outputs": []
    },
    {
      "metadata": {
        "_uuid": "5831057753d8207fe69b73ef87206f5c5f5bbef0"
      },
      "cell_type": "markdown",
      "source": "### Train data structs"
    },
    {
      "metadata": {
        "_uuid": "59c11bcf6e0b6a185f71b7256587e691f9c5ac65",
        "scrolled": true,
        "trusted": true
      },
      "cell_type": "code",
      "source": "train_filenames = get_filenames(train_data)\ntrain_image_ids = get_image_ids(train_data)\ntrain_full_filenames = get_full_filenames(train_filenames)",
      "execution_count": null,
      "outputs": []
    },
    {
      "metadata": {
        "_uuid": "9ddd49113314835878e40c704c09d60aaef0405e"
      },
      "cell_type": "markdown",
      "source": "### Val data structs"
    },
    {
      "metadata": {
        "_uuid": "feee59024457dc658a23e2249b480507018aa3d7",
        "trusted": true
      },
      "cell_type": "code",
      "source": "val_filenames = get_filenames(val_data)\nval_image_ids = get_image_ids(val_data)\nval_full_filenames = get_full_filenames(val_filenames)",
      "execution_count": null,
      "outputs": []
    },
    {
      "metadata": {
        "_uuid": "f8ed156febc4a93a8fc6e9fa3efe974a00acea96"
      },
      "cell_type": "markdown",
      "source": "# Image helper functions"
    },
    {
      "metadata": {
        "_uuid": "edbdf5a25972f8ca58ffef415ce26f59d4680666",
        "trusted": true
      },
      "cell_type": "code",
      "source": "def show_img(im, figsize=None, ax=None):\n    if not ax:\n        fig,ax = plt.subplots(figsize=figsize)\n    ax.imshow(im)\n    ax.get_xaxis().set_visible(False)\n    ax.get_yaxis().set_visible(False)\n    return ax\n\ndef draw_rect(ax, b, edgecolor='white'):\n    patch = ax.add_patch(patches.Rectangle(b[:2], *b[-2:], fill=False, edgecolor=edgecolor, lw=2))\n    draw_outline(patch, 4)\n    \ndef draw_outline(o, lw):\n    o.set_path_effects([patheffects.Stroke(\n        linewidth=lw, foreground='black'), patheffects.Normal()])\n    \ndef draw_text(ax, xy, txt, sz=14):\n    text = ax.text(*xy, txt,\n        verticalalignment='top', color='white', fontsize=sz, weight='bold')\n    draw_outline(text, 1)",
      "execution_count": null,
      "outputs": []
    },
    {
      "metadata": {
        "_uuid": "c467c7c2e7f22a8f1a1f97f2c33e25dc2feb9a3c"
      },
      "cell_type": "markdown",
      "source": "# Multi-box Labels"
    },
    {
      "metadata": {
        "_uuid": "8ee3b5b3f73c78f7abd478cbf99d6e1bd57ce665"
      },
      "cell_type": "markdown",
      "source": "### New Annotations Data struct"
    },
    {
      "metadata": {
        "_uuid": "6606fd5dc1e98126dc1345408c2ec4424de58e7b",
        "trusted": true
      },
      "cell_type": "code",
      "source": "def get_new_train_ann(image_ids, data):\n    \"\"\"\n    Returns a rank 2 array [n, 5]. 5 items in 2nd dimen are 4 bbox cords, last is the category\n    \"\"\"\n    all_ann = {image_id:[] for image_id in image_ids}\n    for x in data[ANNOTATIONS]:\n        image_id = x[IMAGE_ID]\n        bbox = x[BBOX]\n        cat = [x[CATEGORY_ID]] # this is an int normally\n        ann = np.concatenate([bbox, cat])\n        if len(all_ann[image_id]) == 0:\n            all_ann[image_id] = np.array([ann])\n        else:\n            prev = all_ann[image_id]\n            new = ann\n            all_ann[image_id] = np.reshape(np.concatenate([new, np.reshape(prev, -1)]), (-1, 5))\n    return all_ann\n    \nnew_val_ann = get_new_train_ann(val_image_ids, val_data)\npreview_data(new_val_ann)",
      "execution_count": null,
      "outputs": []
    },
    {
      "metadata": {
        "_uuid": "cc5e4342847b3c35f5e4b6f826f35445518b3a67"
      },
      "cell_type": "markdown",
      "source": "### Orig Annotations Data struct"
    },
    {
      "metadata": {
        "_uuid": "9cce9b49521e898b7cf052f5a1bcb0f0fe57a2b3",
        "trusted": true
      },
      "cell_type": "code",
      "source": "def get_image_annotations(data):\n    # returns a dict of {image_id: [((bbox, cat), ...)]} \n    # 1 item per image. Can be multi bbox per image\n    ann = collections.defaultdict(lambda:[])\n    for x in data[ANNOTATIONS]:\n        ann[x[IMAGE_ID]].append((x[BBOX], x[CATEGORY_ID]))\n    return ann\n\ntrain_ann = get_image_annotations(train_data)",
      "execution_count": null,
      "outputs": []
    },
    {
      "metadata": {
        "_uuid": "0ba3f6000281fc731bb632a3410a45c292a054f9",
        "trusted": true
      },
      "cell_type": "code",
      "source": "preview_data(train_ann)",
      "execution_count": null,
      "outputs": []
    },
    {
      "metadata": {
        "_uuid": "939c7a1996e5816ce95a7aa05af4ef83c01be6ce"
      },
      "cell_type": "markdown",
      "source": "### Random image with multi-box labels"
    },
    {
      "metadata": {
        "_uuid": "0f362699b2fd3c2641bb7273e6304b54975a09f9",
        "trusted": true
      },
      "cell_type": "code",
      "source": "def show_random_multibox_image(ann, image_ids, filenames):\n    image_id = random.choice(image_ids)\n    im = open_image(str(IMAGE_PATH/filenames[image_id]))\n    ax = show_img(im)\n    for bbox, cat in ann[image_id]:\n        draw_rect(ax, bbox)\n        draw_text(ax, bbox[:2], categories[cat])\n\n# TRAIN dataset example\nshow_random_multibox_image(train_ann, train_image_ids, train_filenames)",
      "execution_count": null,
      "outputs": []
    },
    {
      "metadata": {
        "_uuid": "b33956dae164315e5b407a048fc649626ce4b018",
        "trusted": true
      },
      "cell_type": "code",
      "source": "# new_train_ann version \n\ndef new_show_random_multibox_image(ann, image_ids, filenames):\n    image_id = random.choice(image_ids)\n    im = open_image(str(IMAGE_PATH/filenames[image_id]))\n    ax = show_img(im)\n    for arr in ann[image_id]:\n        bbox = arr[:4]\n        cat = arr[-1]\n        draw_rect(ax, bbox)\n        draw_text(ax, bbox[:2], categories[cat])\n\n# TRAIN dataset example\nnew_train_ann = get_new_train_ann(train_image_ids, train_data)\n\nnew_show_random_multibox_image(new_train_ann, train_image_ids, train_filenames)",
      "execution_count": null,
      "outputs": []
    },
    {
      "metadata": {
        "_uuid": "53ae28d27211f838eadb605f1776af831e32430f",
        "trusted": true
      },
      "cell_type": "code",
      "source": "val_ann = get_image_annotations(val_data)",
      "execution_count": null,
      "outputs": []
    },
    {
      "metadata": {
        "_uuid": "b2bc3c95658191c0e37439f72be4f58d68cc83c7",
        "scrolled": true,
        "trusted": true
      },
      "cell_type": "code",
      "source": "show_random_multibox_image(val_ann, val_image_ids, val_filenames)",
      "execution_count": null,
      "outputs": []
    },
    {
      "metadata": {
        "_uuid": "4b226bf39123f7a2432fc0fccf939369c33e87d7"
      },
      "cell_type": "markdown",
      "source": "Train Examples"
    },
    {
      "metadata": {
        "_uuid": "8cc1d868ca68927292c83c4ab2b5a31f2e50d5c8",
        "trusted": true
      },
      "cell_type": "code",
      "source": "fig, axes = plt.subplots(3, 4, figsize=(12, 8))\nfor i,ax in enumerate(axes.flat):\n    image_id = train_image_ids[i]\n    image_anns = train_ann[image_id]\n    im = open_image(str(IMAGE_PATH/train_filenames[image_id]))\n    ax = show_img(im, ax=ax)\n    for bbox, cat in image_anns:\n        draw_rect(ax, bbox)\n        draw_text(ax, bbox[:2], categories[cat])\nplt.tight_layout()",
      "execution_count": null,
      "outputs": []
    },
    {
      "metadata": {
        "_uuid": "3878bbee27524f74125e0e92db20d9f8d378df51"
      },
      "cell_type": "markdown",
      "source": "VAL Examples"
    },
    {
      "metadata": {
        "_uuid": "5e75b9a0f7a8679064777ffc7b97b145115e034d",
        "trusted": true
      },
      "cell_type": "code",
      "source": "fig, axes = plt.subplots(3, 4, figsize=(12, 8))\nfor i,ax in enumerate(axes.flat):\n    image_id = val_image_ids[i]\n    image_anns = val_ann[image_id]\n    im = open_image(str(IMAGE_PATH/val_filenames[image_id]))\n    ax = show_img(im, ax=ax)\n    for bbox, cat in image_anns:\n        draw_rect(ax, bbox)\n        draw_text(ax, bbox[:2], categories[cat])\nplt.tight_layout()",
      "execution_count": null,
      "outputs": []
    },
    {
      "metadata": {
        "_uuid": "c0e0f4661b4d83e7b7e1ed0eb8eae9c0f5cb1245"
      },
      "cell_type": "markdown",
      "source": "# 4x4 Grid Model"
    },
    {
      "metadata": {
        "_uuid": "2d694eb407e64b421f7abb7f76f4d80877cc9e06",
        "trusted": true
      },
      "cell_type": "code",
      "source": "anc_grid = 4\nk = 1\nanc_offset = 1/(anc_grid*2)\nanc_offset",
      "execution_count": null,
      "outputs": []
    },
    {
      "metadata": {
        "_uuid": "3df9d0693addd8630da25d1fe98bdf9fe575b665",
        "trusted": true
      },
      "cell_type": "code",
      "source": "anc_x = np.repeat(np.linspace(anc_offset, 1-anc_offset, anc_grid), 4)\nanc_x",
      "execution_count": null,
      "outputs": []
    },
    {
      "metadata": {
        "_uuid": "68cdeca342291d90e497acd39c97a2c266edf1e3",
        "trusted": true
      },
      "cell_type": "code",
      "source": "anc_y = np.tile(np.linspace(anc_offset, 1-anc_offset, anc_grid), 4)\nanc_y",
      "execution_count": null,
      "outputs": []
    },
    {
      "metadata": {
        "_uuid": "55f5cf016cc39c8d5db20c0d038c34f31f0124fb",
        "trusted": true
      },
      "cell_type": "code",
      "source": "anc_centers = np.tile(np.stack([anc_x,anc_y], axis=1), (k,1))\nanc_centers",
      "execution_count": null,
      "outputs": []
    },
    {
      "metadata": {
        "_uuid": "4561303c00d21f4c1db44f001a98e3a7624f6985",
        "trusted": true
      },
      "cell_type": "code",
      "source": "anc_w = 1/anc_grid\nanc_h = 1/anc_grid\nanc_sizes = np.array([[anc_w, anc_h] for i in range(anc_grid*anc_grid)])\nanc_sizes",
      "execution_count": null,
      "outputs": []
    },
    {
      "metadata": {
        "_uuid": "a4d52b5b4e81bd44054daedb28ba56755b94ba1d",
        "trusted": true
      },
      "cell_type": "code",
      "source": "np.concatenate([anc_centers, anc_sizes], axis=1)",
      "execution_count": null,
      "outputs": []
    },
    {
      "metadata": {
        "_uuid": "5427aeb1448c1b21351efb226967c56473b60cb5",
        "trusted": true
      },
      "cell_type": "code",
      "source": "anchors = torch.tensor(np.concatenate([anc_centers, anc_sizes], axis=1), requires_grad=False, dtype=torch.float)\nanchors",
      "execution_count": null,
      "outputs": []
    },
    {
      "metadata": {
        "_uuid": "094b24be41894537b1a126f3f61bd8f79aef1d7c",
        "trusted": true
      },
      "cell_type": "code",
      "source": "grid_sizes = torch.tensor(np.array([1/anc_grid]), requires_grad=False).unsqueeze(1)\ngrid_sizes",
      "execution_count": null,
      "outputs": []
    },
    {
      "metadata": {
        "_uuid": "5090e012c9a18e1062beebdee9d10267c0749806",
        "trusted": true
      },
      "cell_type": "code",
      "source": "plt.scatter(anc_x, anc_y)\nplt.xlim(0, 1)\nplt.ylim(0, 1)",
      "execution_count": null,
      "outputs": []
    },
    {
      "metadata": {
        "_uuid": "963f930f578a6345fee7f470d4f0f8f27ca7e4c1",
        "trusted": true
      },
      "cell_type": "code",
      "source": "def hw2corners(center, hw):\n    return torch.cat([center-hw/2, center+hw/2], dim=1)\n\n# not in use, just for noting\ncenters = anchors[:,:2]\nheight_widths = anchors[:,2:]\n\nanchor_corners = hw2corners(anchors[:,:2], anchors[:,2:])\nanchor_corners",
      "execution_count": null,
      "outputs": []
    },
    {
      "metadata": {
        "trusted": true,
        "_uuid": "3f90bf629ce1a5baed79e1df0134eda162b4fc4c"
      },
      "cell_type": "code",
      "source": "anchor_corners[7]",
      "execution_count": null,
      "outputs": []
    },
    {
      "metadata": {
        "trusted": true,
        "_uuid": "bb669cfcd8447ea866710ef4267598063468acad"
      },
      "cell_type": "code",
      "source": "plt.scatter(anchor_corners[:,0], anchor_corners[:,1])\nplt.xlim(0, 1)\nplt.ylim(0, 1)",
      "execution_count": null,
      "outputs": []
    },
    {
      "metadata": {
        "trusted": true,
        "_uuid": "335a577b44fd1857bcd3739077dc01bd0165b266"
      },
      "cell_type": "code",
      "source": "plt.scatter(anchor_corners[:,2], anchor_corners[:,3])\nplt.xlim(0, 1)\nplt.ylim(0, 1)",
      "execution_count": null,
      "outputs": []
    },
    {
      "metadata": {
        "_uuid": "ee869285829ac6a64052d7186a938e1a7d3db002"
      },
      "cell_type": "markdown",
      "source": "Calculate the `[0,1]` location for each object, in order to calculate the IoU"
    },
    {
      "metadata": {
        "_uuid": "c08f1d93514ab7bfd861a02877318926d3772edc",
        "trusted": true
      },
      "cell_type": "code",
      "source": "sample = preview_data(train_ann)\nsample",
      "execution_count": null,
      "outputs": []
    },
    {
      "metadata": {
        "_uuid": "081f58d437b81fcb6d7424a5b32a9bc362972195",
        "trusted": true
      },
      "cell_type": "code",
      "source": "image_id, ann = sample",
      "execution_count": null,
      "outputs": []
    },
    {
      "metadata": {
        "_uuid": "1e2688281dd8ae26708b0d11eb495033f5299320",
        "trusted": true
      },
      "cell_type": "code",
      "source": "im = open_image(str(IMAGE_PATH/train_filenames[image_id]))\nim.shape",
      "execution_count": null,
      "outputs": []
    },
    {
      "metadata": {
        "_uuid": "21a0c3916c26341c84abe74d198b72f10876e895",
        "trusted": true
      },
      "cell_type": "code",
      "source": "im_h = im.shape[0]\nim_w = im.shape[1]",
      "execution_count": null,
      "outputs": []
    },
    {
      "metadata": {
        "_uuid": "c465cab452a5214e60c3d75f4d6b311cbb85ed16",
        "trusted": true
      },
      "cell_type": "code",
      "source": "scaled_ann = [(np.divide(bbox, [im_w, im_h, im_w, im_h]), cat) for bbox,cat in ann]\nscaled_ann",
      "execution_count": null,
      "outputs": []
    },
    {
      "metadata": {
        "_uuid": "f6199618d1ba4b46c2fae268ccdc1d01c23aefb7",
        "trusted": true
      },
      "cell_type": "code",
      "source": "np.divide(im.shape, [im_h, im_w, 1])",
      "execution_count": null,
      "outputs": []
    },
    {
      "metadata": {
        "_uuid": "23934d7509d40803b0fb9b58ed3206024c82977c"
      },
      "cell_type": "markdown",
      "source": "Show the above Anchor Boxes data struct"
    },
    {
      "metadata": {
        "_uuid": "9ac46d1f2b1109eee8fdc21c7e392a29fea7dba6",
        "trusted": true
      },
      "cell_type": "code",
      "source": "def scale_pascal_bb(bbox, image, size):\n    \"\"\"\n    Returns a bbox scaled to the target `size`\n    \n    Args:\n        bbox (1d array): pascal_bb [x, y, x2, y2]\n        image (3d array): HWC\n        size (scalar): target image size that bbox should be scaled to\n    \"\"\"\n    im_w = image.shape[1]\n    im_h = image.shape[0]\n    return np.multiply(np.divide(bbox, [im_w, im_h, im_w, im_h]), size)",
      "execution_count": null,
      "outputs": []
    },
    {
      "metadata": {
        "_uuid": "1899ff2f0c16ad92c6f24f70b7e25f0bb4562ee4",
        "trusted": true
      },
      "cell_type": "code",
      "source": "# image_id = random.choice(train_image_ids)\nimage_id = train_image_ids[1]\nim = open_image(str(IMAGE_PATH/train_filenames[image_id]))\nprint(im.shape)\nresized_image = cv2.resize(im, (SIZE, SIZE)) # HW\nax = show_img(resized_image)\nfor bbox in anchor_corners:\n    draw_rect(ax, bbox*224, edgecolor='red')\nfor bbox, cat in train_ann[image_id]:\n    bbox = scale_pascal_bb(bbox, im, SIZE)\n    draw_rect(ax, bbox)\n    draw_text(ax, bbox[:2], categories[cat])",
      "execution_count": null,
      "outputs": []
    },
    {
      "metadata": {
        "_uuid": "45eedca7ec09d4f10aff5a76303676bf91b3dc7e",
        "trusted": true
      },
      "cell_type": "code",
      "source": "# IoU for above image\nimage_id = train_image_ids[1]\nim = open_image(str(IMAGE_PATH/train_filenames[image_id]))\n\nbbox1, bbox2 = [scale_pascal_bb(bbox, im, SIZE) for bbox,cat in train_ann[image_id]]\nbbox1, bbox2",
      "execution_count": null,
      "outputs": []
    },
    {
      "metadata": {
        "_uuid": "82eb8f322fb40e114b2316074ce0891bf1b82261",
        "trusted": true
      },
      "cell_type": "code",
      "source": "# calc area for 'person'\nbbox = bbox2\ny1 = bbox[1]\nx1 = bbox[0]\ny2 = bbox[1] + bbox[3] - 1\nx2 = bbox[0] + bbox[2] - 1\n(x2-x1)*(y2-y1)",
      "execution_count": null,
      "outputs": []
    },
    {
      "metadata": {
        "_uuid": "a7b33383a60671bc44e84d2582f2140b0f7f47c3",
        "trusted": true
      },
      "cell_type": "code",
      "source": "def fastai_bbs(bbs):\n    return np.array([[bb[1], bb[0], bb[3]+bb[1]-1, bb[2]+bb[0]-1] for bb in bbs])\n\nbbs = [scale_pascal_bb(bbox, im, SIZE) for bbox,cat in train_ann[image_id]]\n\nfastai_bbs(bbs)",
      "execution_count": null,
      "outputs": []
    },
    {
      "metadata": {
        "_uuid": "8c3f502d672da18f13550e7def19cd1f602528fc",
        "trusted": true
      },
      "cell_type": "code",
      "source": "def fastai_bb(bb):\n    return np.array([bb[1], bb[0], bb[3]+bb[1]-1, bb[2]+bb[0]-1])\n\nbb = fastai_bb(bbox2)\nbb",
      "execution_count": null,
      "outputs": []
    },
    {
      "metadata": {
        "_uuid": "351813458340f8586a7b57735609e0d325a2beba",
        "trusted": true
      },
      "cell_type": "code",
      "source": "y1, x1, y2, x2 = bb\n(x2-x1)*(y2-y1)",
      "execution_count": null,
      "outputs": []
    },
    {
      "metadata": {
        "_uuid": "bd3adb07be0f56dee9387df1a809846f6a626b0b",
        "trusted": true
      },
      "cell_type": "code",
      "source": "# horse area\nbbox = bbox2\nprint(bbox)\ny1 = bbox[1]\nx1 = bbox[0]\ny2 = bbox[1] + bbox[3]\nx2 = bbox[0] + bbox[2]\n(x2-x1)*(y2-y1)",
      "execution_count": null,
      "outputs": []
    },
    {
      "metadata": {
        "_uuid": "6619422a9895c84617dd0d247e4ce683673fd000",
        "trusted": true
      },
      "cell_type": "code",
      "source": "SIZE**2",
      "execution_count": null,
      "outputs": []
    },
    {
      "metadata": {
        "_uuid": "7f2f0d641a4f3b3f135c0ebca19cc1362b188e4d",
        "trusted": true
      },
      "cell_type": "code",
      "source": "ab_224 = anchor_corners*SIZE\nab224 = ab_224\ny1 = ab_224[:,0]\nx1 = ab_224[:,1]\ny2 = ab_224[:,2]\nx2 = ab_224[:,3]\nab_area = (x2-x1)*(y2-y1)\nab_area",
      "execution_count": null,
      "outputs": []
    },
    {
      "metadata": {
        "_uuid": "f3ba987eedc8325b8dbc98c14a41cb56acc56964",
        "trusted": true
      },
      "cell_type": "code",
      "source": "bb",
      "execution_count": null,
      "outputs": []
    },
    {
      "metadata": {
        "_uuid": "409a15f0429813e61f3763181f18bdf384efb5cc",
        "trusted": true
      },
      "cell_type": "code",
      "source": "single_ab_area = 56**2.\nsingle_ab_area",
      "execution_count": null,
      "outputs": []
    },
    {
      "metadata": {
        "_uuid": "11aa0909aff53e2757a0c7f2d91fa05e8ff9ad24",
        "trusted": true
      },
      "cell_type": "code",
      "source": "y1, x1, y2, x2 = bb\nbb_area = (x2-x1)*(y2-y1)\nbb_area",
      "execution_count": null,
      "outputs": []
    },
    {
      "metadata": {
        "_uuid": "e5084d6b9718f335dd7816f58b8a83bcb5ffbab7",
        "trusted": true
      },
      "cell_type": "code",
      "source": "union = single_ab_area + bb_area\nunion",
      "execution_count": null,
      "outputs": []
    },
    {
      "metadata": {
        "_uuid": "0cc57105d6e733801e5f95d94ae7732ac57b1545",
        "trusted": true
      },
      "cell_type": "code",
      "source": "# calc intersection\n# bb[:2]\nbb16 = np.reshape(np.tile(bb, ab224.shape[0]), (-1, 4))\nbb16.shape",
      "execution_count": null,
      "outputs": []
    },
    {
      "metadata": {
        "_uuid": "a0c635c92dc7dc7a9f5d073703b7cac51982f80e",
        "trusted": true
      },
      "cell_type": "code",
      "source": "ab224.shape",
      "execution_count": null,
      "outputs": []
    },
    {
      "metadata": {
        "_uuid": "439f6f90411ef0e4a4ec6c587c31039aa8265bba",
        "trusted": true
      },
      "cell_type": "code",
      "source": "max_xy = np.maximum(ab224[:,:2], bb16[:,:2])\nmax_xy.shape",
      "execution_count": null,
      "outputs": []
    },
    {
      "metadata": {
        "_uuid": "9ada01213570c82959b2ccb4fff12ee7379a0256",
        "trusted": true
      },
      "cell_type": "code",
      "source": "min_xy = np.minimum(ab224[:,2:], bb16[:,2:])\nmin_xy.shape",
      "execution_count": null,
      "outputs": []
    },
    {
      "metadata": {
        "_uuid": "9ac3655eef82b04b2ae3d5b12a983edfb7a5510c",
        "trusted": true
      },
      "cell_type": "code",
      "source": "intersect = np.abs(max_xy - min_xy)\nintersect.shape",
      "execution_count": null,
      "outputs": []
    },
    {
      "metadata": {
        "_uuid": "255044a3d52ae51dcfb1b33dcc7e70963846564a",
        "trusted": true
      },
      "cell_type": "code",
      "source": "sinble_bb_iou = intersect[:,0] * intersect[:,1]\nsinble_bb_iou",
      "execution_count": null,
      "outputs": []
    },
    {
      "metadata": {
        "_uuid": "3c08824ff663b497ce256b43ccab861239042e31",
        "trusted": true
      },
      "cell_type": "code",
      "source": "8.61538 * 14.46667",
      "execution_count": null,
      "outputs": []
    },
    {
      "metadata": {
        "_uuid": "ff20d2d98a9ade641d58080828a7dc82e7454092"
      },
      "cell_type": "markdown",
      "source": "## Intersection part of IoU for a single bbox"
    },
    {
      "metadata": {
        "_uuid": "4fdbcf1b0cd45ae77bb35097a6345b6deb2df11b",
        "trusted": true
      },
      "cell_type": "code",
      "source": "# calculate `intersect` in a single function\ndef get_intersect(bbox, anchor_corners):\n    bb = fastai_bb(bbox)\n    ab224 = anchor_corners*SIZE\n    bb16 = np.reshape(np.tile(bb, ab224.shape[0]), (-1, 4))\n    max_xy = np.maximum(ab224[:,:2], bb16[:,:2])\n    min_xy = np.minimum(ab224[:,2:], bb16[:,2:])\n    intersect = np.abs(max_xy - min_xy)\n    return intersect[:,0] * intersect[:,1]\n\nget_intersect(bbox2, anchor_corners)",
      "execution_count": null,
      "outputs": []
    },
    {
      "metadata": {
        "_uuid": "5858e07e8a3d7578223d170718ae0180803d4e38",
        "trusted": true
      },
      "cell_type": "code",
      "source": "bboxes = [scale_pascal_bb(bbox, im, SIZE) for bbox,cat in train_ann[image_id]]\nbbox = bboxes # [bbox2]\nbb = [fastai_bb(bb) for bb in bbox]\nab224 = anchor_corners*SIZE\nbb16 = np.reshape(np.tile(bb, ab224.shape[0]), (-1, 4))\n# max_xy = np.maximum(ab224[:,:2], bb16[:,:2])\n# min_xy = np.minimum(ab224[:,2:], bb16[:,2:])\n# intersect = np.abs(max_xy - min_xy)\n# bbox_intersect = intersect[:,0] * intersect[:,1]",
      "execution_count": null,
      "outputs": []
    },
    {
      "metadata": {
        "_uuid": "cb7fab9c14f3a88d1c63d738766d914963d018e7",
        "trusted": true
      },
      "cell_type": "code",
      "source": "bb16.shape",
      "execution_count": null,
      "outputs": []
    },
    {
      "metadata": {
        "_uuid": "7ee7486e6ce23dc0c345440a1d41d40f86aabe42",
        "trusted": true
      },
      "cell_type": "code",
      "source": "bb16 = np.reshape(np.tile(bb, ab224.shape[0]), (len(bb), -1, 4))\nbb16.shape",
      "execution_count": null,
      "outputs": []
    },
    {
      "metadata": {
        "_uuid": "2a4625e27ac5edd7a8a83674cc737f00cffa9c72",
        "trusted": true
      },
      "cell_type": "code",
      "source": "max_xy = np.maximum(ab224[:,:2], bb16[:,:,:2])\nmax_xy.shape",
      "execution_count": null,
      "outputs": []
    },
    {
      "metadata": {
        "_uuid": "9b3799bd46a6929b0e2e7b2d2b7b48e97b422306",
        "trusted": true
      },
      "cell_type": "code",
      "source": "min_xy = np.minimum(ab224[:,2:], bb16[:,:,2:])\nmin_xy.shape",
      "execution_count": null,
      "outputs": []
    },
    {
      "metadata": {
        "_uuid": "8263c2d87c342acda26e521d8b80829cdaa46f0d",
        "trusted": true
      },
      "cell_type": "code",
      "source": "intersect = np.abs(max_xy - min_xy)\nintersect.shape",
      "execution_count": null,
      "outputs": []
    },
    {
      "metadata": {
        "_uuid": "f0b613cea93e15a747ac619c8e2efe44c74067b6",
        "trusted": true
      },
      "cell_type": "code",
      "source": "bbox_intersect = intersect[:,:,0] * intersect[:,:,1]\nbbox_intersect.shape",
      "execution_count": null,
      "outputs": []
    },
    {
      "metadata": {
        "_uuid": "e91ccda431854e516391168d49836ebc436b8bb6",
        "trusted": true
      },
      "cell_type": "code",
      "source": "bbox1, bbox2 = [scale_pascal_bb(bbox, im, SIZE) for bbox,cat in train_ann[image_id]]\n\nnp.reshape(np.concatenate(\n    [get_intersect(bbox1, anchor_corners),\n    get_intersect(bbox2, anchor_corners)]\n), (2,-1)) == bbox_intersect",
      "execution_count": null,
      "outputs": []
    },
    {
      "metadata": {
        "_uuid": "dd4033a21fb79ad6260372ff1ea1c1ca72dc07b5"
      },
      "cell_type": "markdown",
      "source": "## Intersection part of IoU for N bboxes"
    },
    {
      "metadata": {
        "_uuid": "4729ef35de71b2188225057cbff4f69db71dd7fd",
        "trusted": true
      },
      "cell_type": "code",
      "source": "# calculate all bbox intersections in a single function\n\ndef get_bb_intersect_single(bbox, anchor_corners):\n    bb = [fastai_bb(bb) for bb in bbox]\n    ab224 = anchor_corners*SIZE\n    bb16 = np.reshape(np.tile(bb, ab224.shape[0]), (len(bb), -1, 4))\n    max_xy = np.maximum(ab224[:,:2], bb16[:,:,:2])\n    min_xy = np.minimum(ab224[:,2:], bb16[:,:,2:])\n    intersect = np.abs(max_xy - min_xy)\n    return intersect[:,:,0] * intersect[:,:,1]\n    \nbbox = [scale_pascal_bb(bbox, im, SIZE) for bbox,cat in train_ann[image_id]]\n\nbbox_intersect2 = get_bb_intersect_single(bbox, anchor_corners)\n\nbbox_intersect == bbox_intersect2",
      "execution_count": null,
      "outputs": []
    },
    {
      "metadata": {
        "trusted": true,
        "_uuid": "02f08289d610cf794743c445aef24592b2f18e26"
      },
      "cell_type": "code",
      "source": "bbox_intersect2",
      "execution_count": null,
      "outputs": []
    },
    {
      "metadata": {
        "trusted": true,
        "_uuid": "bfb5b2fdfcc3fddf9789b83eba6325af6c73eddb"
      },
      "cell_type": "code",
      "source": "overlaps = bbox_intersect2 / single_ab_area\noverlaps",
      "execution_count": null,
      "outputs": []
    },
    {
      "metadata": {
        "trusted": true,
        "_uuid": "1f8bcb5aeaecb53a2ad8f9ed980e228c3f082768"
      },
      "cell_type": "code",
      "source": "overlaps.max(1)",
      "execution_count": null,
      "outputs": []
    },
    {
      "metadata": {
        "trusted": true,
        "_uuid": "5ecb0a78b4d3a04a4879a1b7eaaaa7ef43d1f48b"
      },
      "cell_type": "code",
      "source": "overlaps.max(0)",
      "execution_count": null,
      "outputs": []
    },
    {
      "metadata": {
        "trusted": true,
        "_uuid": "8a437d89cde7e77fed25f47b24964a38afe6af97"
      },
      "cell_type": "code",
      "source": "def map_to_ground_truth(overlaps, print_it=False):\n    prior_overlap, prior_idx = overlaps.max(1)\n    if print_it: print(prior_overlap)\n#     pdb.set_trace()\n    gt_overlap, gt_idx = overlaps.max(0)\n    gt_overlap[prior_idx] = 1.99\n    for i,o in enumerate(prior_idx): gt_idx[o] = i\n    return gt_overlap,gt_idx\n\nmap_to_ground_truth(overlaps)",
      "execution_count": null,
      "outputs": []
    },
    {
      "metadata": {
        "trusted": true,
        "_uuid": "8f467f867844bfc337dd71709ad89b82ac0e40fc"
      },
      "cell_type": "code",
      "source": "",
      "execution_count": null,
      "outputs": []
    },
    {
      "metadata": {
        "_uuid": "9bfc37930a49a658f2bdad821f2741d0c9091ca2",
        "trusted": true
      },
      "cell_type": "code",
      "source": "# calculate IoU",
      "execution_count": null,
      "outputs": []
    },
    {
      "metadata": {
        "_uuid": "35d1b12550fd862dba48e75135a905ec093022cf",
        "trusted": true
      },
      "cell_type": "code",
      "source": "bbox = [scale_pascal_bb(bbox, im, SIZE) for bbox,cat in train_ann[image_id]]\nbbox",
      "execution_count": null,
      "outputs": []
    },
    {
      "metadata": {
        "_uuid": "927d2ce38d4f039f596be8f1a7db39b0bc188a28",
        "trusted": true
      },
      "cell_type": "code",
      "source": "bb = bbox[0]\ny1, x1, y2, x2 = bb\nbb_area = np.abs((x2-x1)*(y2-y1))\nbb_area",
      "execution_count": null,
      "outputs": []
    },
    {
      "metadata": {
        "_uuid": "1e8dc581b57d95372f9dff74382435ae8cfac0a9",
        "trusted": true
      },
      "cell_type": "code",
      "source": "bb = bbox[1]\ny1, x1, y2, x2 = bb\nbbox2_area = x2*y2\nbbox2_area",
      "execution_count": null,
      "outputs": []
    },
    {
      "metadata": {
        "_uuid": "cbe7d83dd26cb9878618ee820820a7f7efa04db0",
        "trusted": true
      },
      "cell_type": "code",
      "source": "total_area = SIZE**2.\ntotal_area",
      "execution_count": null,
      "outputs": []
    },
    {
      "metadata": {
        "_uuid": "7ee9a9b390ea1d7132acc5a68b33b91d03768845",
        "trusted": true
      },
      "cell_type": "code",
      "source": "bb_area / total_area",
      "execution_count": null,
      "outputs": []
    },
    {
      "metadata": {
        "_uuid": "83b6fb97e894b74c8b87351c7fde2dd62b2496e4",
        "trusted": true
      },
      "cell_type": "code",
      "source": "grid_sizes",
      "execution_count": null,
      "outputs": []
    },
    {
      "metadata": {
        "_uuid": "cdbcdfb9c2b925c642826e7d26d7cc48244743d9",
        "trusted": true
      },
      "cell_type": "code",
      "source": "single_ab_area = total_area / 16.\nsingle_ab_area",
      "execution_count": null,
      "outputs": []
    },
    {
      "metadata": {
        "_uuid": "4269086ef3eaf673deb05f92fff8004ebbd9cd6e",
        "trusted": true
      },
      "cell_type": "code",
      "source": "bbox2",
      "execution_count": null,
      "outputs": []
    },
    {
      "metadata": {
        "_uuid": "234429b4146df3c01a899a01c93dfc3f2f6b44cc",
        "trusted": true
      },
      "cell_type": "code",
      "source": "intersect_bbox2 = get_intersect(bbox2, anchor_corners)\nbbox2_iou = intersect_bbox2 / single_ab_area\nbbox2_iou",
      "execution_count": null,
      "outputs": []
    },
    {
      "metadata": {
        "_uuid": "2153ea3a201858cb34d418542472a61c1ab02c94",
        "trusted": true
      },
      "cell_type": "code",
      "source": "bbox2_iou_max, bbox2_max_idx = torch.max(bbox2_iou, dim=0)\nbbox2_iou_max, bbox2_max_idx",
      "execution_count": null,
      "outputs": []
    },
    {
      "metadata": {
        "trusted": true,
        "_uuid": "793897c4d33f92873281a87885f56794d0eead19"
      },
      "cell_type": "code",
      "source": "bbox2_iou > .5",
      "execution_count": null,
      "outputs": []
    },
    {
      "metadata": {
        "trusted": true,
        "_uuid": "b191a031b727bea9d2dc56ef699838387ca76b08"
      },
      "cell_type": "code",
      "source": "np.argwhere(bbox2_iou > .5)",
      "execution_count": null,
      "outputs": []
    },
    {
      "metadata": {
        "trusted": true,
        "_uuid": "ab500ea3feaea3f3961a94c0dc7bb4d561ee04c1"
      },
      "cell_type": "code",
      "source": "bbox2_iou[bbox2_iou > .5]",
      "execution_count": null,
      "outputs": []
    },
    {
      "metadata": {
        "_uuid": "becfa19d5e6e47cb0954adb9ddb19b8b97cf35d0"
      },
      "cell_type": "markdown",
      "source": "## Single Bbox IoU"
    },
    {
      "metadata": {
        "trusted": true,
        "_uuid": "7e7483e153000c0815dd5ff9a93852b5afc4e9ea"
      },
      "cell_type": "code",
      "source": "def get_single_bbox_iou(bbox, anchor_corners):\n    intersect_bbox = get_intersect(bbox, anchor_corners)\n    bbox_iou = intersect_bbox / single_ab_area\n    \n    return bbox_iou[bbox_iou > .5], np.argwhere(bbox_iou > .5)\n\nget_single_bbox_iou(bbox2, anchor_corners)",
      "execution_count": null,
      "outputs": []
    },
    {
      "metadata": {
        "trusted": true,
        "_uuid": "d1061d984822301fcda4cca5e59b5ac14de5bf73"
      },
      "cell_type": "code",
      "source": "intersect_bbox = get_intersect(bbox2, anchor_corners)\nbbox_iou = intersect_bbox / single_ab_area\nbbox_iou",
      "execution_count": null,
      "outputs": []
    },
    {
      "metadata": {
        "trusted": true,
        "_uuid": "9681719f42ec241bc78bc78444215e2519ac5005"
      },
      "cell_type": "code",
      "source": "",
      "execution_count": null,
      "outputs": []
    },
    {
      "metadata": {
        "_uuid": "cdf8aac745e413e592817ca26f4af374d95622b8",
        "trusted": true
      },
      "cell_type": "code",
      "source": "# IoU for multi-bbox",
      "execution_count": null,
      "outputs": []
    },
    {
      "metadata": {
        "_uuid": "ec06a9a6c2832daac4dd0b306a8a3f28707d79f7",
        "trusted": true
      },
      "cell_type": "code",
      "source": "bbox = np.array(bbox)\nbbox",
      "execution_count": null,
      "outputs": []
    },
    {
      "metadata": {
        "_uuid": "09dd0f5beafc8d26c6bed88d10e5e536da9aa0fc",
        "trusted": true
      },
      "cell_type": "code",
      "source": "bb = bbox[1]\ny1, x1, y2, x2 = bb\nbbox2_area = x2*y2\nbbox2_area",
      "execution_count": null,
      "outputs": []
    },
    {
      "metadata": {
        "_uuid": "c79593ba33e1ec955cdb1498cc934b92f93272a9",
        "trusted": true
      },
      "cell_type": "code",
      "source": "bbox_areas = bbox[:,2] * bbox[:,3]\nbbox_areas",
      "execution_count": null,
      "outputs": []
    },
    {
      "metadata": {
        "_uuid": "374f85cc61e498a072cccbb5b59cfb45e60a0bea",
        "trusted": true
      },
      "cell_type": "code",
      "source": "bbox_intersect2.shape",
      "execution_count": null,
      "outputs": []
    },
    {
      "metadata": {
        "_uuid": "46ce473b88fe7cd857a440f5fc2666bc1626844d",
        "trusted": true
      },
      "cell_type": "code",
      "source": "torch.max(bbox_intersect2 / single_ab_area, dim=1)",
      "execution_count": null,
      "outputs": []
    },
    {
      "metadata": {
        "_uuid": "d1b8910d92a68bb2d328e4c32994551b66572553",
        "trusted": true
      },
      "cell_type": "code",
      "source": "bbox_intersect2[0]",
      "execution_count": null,
      "outputs": []
    },
    {
      "metadata": {
        "_uuid": "e7f3f6ec9330020cc9e7d72b3c3d916867d0f33b",
        "trusted": true
      },
      "cell_type": "code",
      "source": "bbox2_bak = bbox2\nbbox2 = bbox1\nintersect_bbox2 = get_intersect(bbox2, anchor_corners)\nbbox2_iou = intersect_bbox2 / single_ab_area\nbbox2_iou\n\nbbox2_iou_max, bbox2_max_idx = torch.max(bbox2_iou, dim=0)\nbbox2_iou_max, bbox2_max_idx",
      "execution_count": null,
      "outputs": []
    },
    {
      "metadata": {
        "_uuid": "72febb033a23d2bc0865009f6416497a3279d178",
        "trusted": true
      },
      "cell_type": "code",
      "source": "bbox2_iou",
      "execution_count": null,
      "outputs": []
    },
    {
      "metadata": {
        "_uuid": "db02fca47332240b80f403d7066cecb186e3ab48",
        "trusted": true
      },
      "cell_type": "code",
      "source": "intersect_bbox2",
      "execution_count": null,
      "outputs": []
    },
    {
      "metadata": {
        "_uuid": "d58ab9c7b37cd752319c94d57bb26364efa51b87",
        "trusted": true
      },
      "cell_type": "code",
      "source": "torch.max(intersect_bbox2, dim=0)",
      "execution_count": null,
      "outputs": []
    },
    {
      "metadata": {
        "_uuid": "56819f1ae0604dd85d03727833f88aca0145cb87",
        "trusted": true
      },
      "cell_type": "code",
      "source": "single_ab_area",
      "execution_count": null,
      "outputs": []
    },
    {
      "metadata": {
        "_uuid": "29dae89d3a2e7e1d46b2248ac17ba307a68eee89",
        "trusted": true
      },
      "cell_type": "code",
      "source": "(SIZE**2.) / 16.",
      "execution_count": null,
      "outputs": []
    },
    {
      "metadata": {
        "_uuid": "5b32138b2370c468cd930b37123539a3c67afa11",
        "trusted": true
      },
      "cell_type": "code",
      "source": "anchor_corners",
      "execution_count": null,
      "outputs": []
    },
    {
      "metadata": {
        "_uuid": "e6d4a250b184fa4882609db0155f6f9d717b1238",
        "trusted": true
      },
      "cell_type": "code",
      "source": "bbox1",
      "execution_count": null,
      "outputs": []
    },
    {
      "metadata": {
        "trusted": true,
        "_uuid": "d5c58cf643290eb0961343c7433a03257fa977ea"
      },
      "cell_type": "code",
      "source": "anchor_corners[7]",
      "execution_count": null,
      "outputs": []
    },
    {
      "metadata": {
        "trusted": true,
        "_uuid": "ea105804e67a6a5a90d12950851f58e3e89979fd"
      },
      "cell_type": "code",
      "source": "# maybe wrong ....\n\n# def fastai_to_pascal_bb(ab):\n#     return np.array([ab[0], 1-ab[1], ab[2]-ab[0], ab[3]-ab[1]])\n\n# print('fastai bb:', ab)\n# print('pascal bb:', fastai_to_pascal_bb(ab))",
      "execution_count": null,
      "outputs": []
    },
    {
      "metadata": {
        "trusted": false,
        "_uuid": "19c32ae63efa9d8aa8502f356a79eff9c1523ad6"
      },
      "cell_type": "code",
      "source": "ab = anchor_corners[7].numpy()\nbbox = np.array([ab[0], 1-ab[1], ab[2]-ab[0], ab[3]-ab[1]]) * SIZE\nprint(bbox)\nax = show_img(resized_image)\ndraw_rect(ax, bbox, edgecolor='red')",
      "execution_count": null,
      "outputs": []
    },
    {
      "metadata": {
        "_uuid": "c1c172745553456ca6f2eccdb8f9acef4a5ba8ad",
        "trusted": false
      },
      "cell_type": "code",
      "source": "# image_id = random.choice(train_image_ids)\nimage_id = train_image_ids[1]\nim = open_image(str(IMAGE_PATH/train_filenames[image_id]))\nprint(im.shape)\nresized_image = cv2.resize(im, (SIZE, SIZE)) # HW\nax = show_img(resized_image)\n\n# for bbox in anchor_corners:\nbbox = anchor_corners[7]\ndraw_rect(ax, bbox*224, edgecolor='red')\n\nfor bbox, cat in train_ann[image_id]:\n    bbox = scale_pascal_bb(bbox, im, SIZE)\n    draw_rect(ax, bbox)\n    draw_text(ax, bbox[:2], categories[cat])",
      "execution_count": null,
      "outputs": []
    },
    {
      "metadata": {
        "_uuid": "f9e045912727e504c1a52826a69213f9097cec19"
      },
      "cell_type": "markdown",
      "source": "# NEXT: calculate Multi Bbox IoU"
    },
    {
      "metadata": {
        "trusted": false,
        "_uuid": "183cc8753c58dc420cd6918793b2cf076bc03fcd"
      },
      "cell_type": "code",
      "source": "categories[15]",
      "execution_count": null,
      "outputs": []
    },
    {
      "metadata": {
        "_uuid": "7bddf90acc87dcefa3a93d4bb3fa93efe27af1f7"
      },
      "cell_type": "markdown",
      "source": "## NEXT: calculate Jaccard overlap per Obj per Anchor Box"
    },
    {
      "metadata": {
        "_uuid": "f612fcccce3b2e261cc5751351f3ab3ac816503a",
        "trusted": false
      },
      "cell_type": "code",
      "source": "actn_bbs = torch.tanh(anchor_corners)\nactn_bbs ",
      "execution_count": null,
      "outputs": []
    },
    {
      "metadata": {
        "_uuid": "8515e7d53e3093e5f67cb8daa3436cb03457c274",
        "trusted": false
      },
      "cell_type": "code",
      "source": "actn_centers = (actn_bbs[:,:2]/2 * grid_sizes.float()) + anchors[:,:2]\nactn_centers",
      "execution_count": null,
      "outputs": []
    },
    {
      "metadata": {
        "_uuid": "4e73c18d04f89164f5cde0978e12de805a9af001",
        "trusted": false
      },
      "cell_type": "code",
      "source": "actn_hw = (actn_bbs[:,2:]/2+1) * anchors[:,2:]\nactn_hw",
      "execution_count": null,
      "outputs": []
    },
    {
      "metadata": {
        "_uuid": "b079dd46fb109c35f404c690dda610c13edbfdf6",
        "trusted": false
      },
      "cell_type": "code",
      "source": "hw2corners(actn_centers, actn_hw)",
      "execution_count": null,
      "outputs": []
    },
    {
      "metadata": {
        "_uuid": "479b5dd79c84632b13e4f141eac19ce38bd09ff8",
        "trusted": false
      },
      "cell_type": "code",
      "source": "def actn_to_bb(actn, anchors):\n    actn_bbs = torch.tanh(actn)\n    actn_centers = (actn_bbs[:,:2]/2 * grid_sizes.float()) + anchors[:,:2]\n    actn_hw = (actn_bbs[:,2:]/2+1) * anchors[:,2:]\n    return hw2corners(actn_centers, actn_hw)\n\nactn_corners = actn_to_bb(anchor_corners, anchors)\nactn_corners",
      "execution_count": null,
      "outputs": []
    },
    {
      "metadata": {
        "_uuid": "f12d200197783ecc8f9151e92e34f641ae0f1ae7"
      },
      "cell_type": "markdown",
      "source": "# Dataset\n\nScales image to (3, 224, 224) for Resnet18\n\nAlso scales the bbox"
    },
    {
      "metadata": {
        "_uuid": "7040300f87d666ccb0245dc84cb39f83359e9a48",
        "trusted": false
      },
      "cell_type": "code",
      "source": "class BboxDataset(Dataset):\n    def __init__(self, full_filenames, data_ann):\n        \"\"\"\n        Args:\n            full_filenames (list): [(image_id, image_full_path), ...]\n            data_bbox (dict): {image_id: (area, bbox, cat), ...}\n        \"\"\"\n        self.full_filenames = full_filenames\n        self.data_ann = data_ann\n\n    def __len__(self):\n        return len(self.full_filenames)\n    \n    def __getitem__(self, idx):\n        image_id, image_path = self.full_filenames[idx]\n        im = open_image(image_path) # HW\n        resized_image = cv2.resize(im, (SIZE, SIZE)) # HW\n        image = np.transpose(resized_image, (2, 0, 1)) # CHW\n        \n        bbox_cat = self.data_ann[image_id]\n\n        im_w = im.shape[1]\n        im_h = im.shape[0]\n        scaled_bbox_cat = np.multiply(\n            np.divide(bbox_cat, [im_w, im_h, im_w, im_h, 1]),\n            [SIZE, SIZE, SIZE, SIZE, 1])\n\n        return image_id, image, scaled_bbox_cat\n    \ndataset = BboxDataset(val_full_filenames, val_train_ann)\nidx = 0\nx = dataset[idx]\n# image_id, inputs, bbox_count, bbox_label, cat_label = dataset[idx]\n# image_id, inputs.shape, bbox_count, bbox_label, cat_label",
      "execution_count": null,
      "outputs": []
    },
    {
      "metadata": {
        "_uuid": "60e0b2f202ac65061916d870b8e4a49fee4623f9",
        "trusted": false
      },
      "cell_type": "code",
      "source": "image_id, inputs, bbox_cat = x\nimage_id, inputs.shape, bbox_cat",
      "execution_count": null,
      "outputs": []
    },
    {
      "metadata": {
        "_uuid": "540b3927b099ac812a009d6c6a1f80881f416f6d",
        "trusted": false
      },
      "cell_type": "code",
      "source": "bbox_cat = preview_data(new_val_ann)\nbbox_cat",
      "execution_count": null,
      "outputs": []
    },
    {
      "metadata": {
        "_uuid": "7332df3d1e03fbea7769ef0c3a1a875f63952ac3",
        "trusted": false
      },
      "cell_type": "code",
      "source": "image_id, label = bbox_cat\nlabel",
      "execution_count": null,
      "outputs": []
    },
    {
      "metadata": {
        "_uuid": "e5c08eefae85e54202ec91a1a1dcbeab056fde68",
        "trusted": false
      },
      "cell_type": "code",
      "source": "label[:,:4]",
      "execution_count": null,
      "outputs": []
    },
    {
      "metadata": {
        "_uuid": "3ae198f1edf7e482be7a274c242b11361ef21976",
        "trusted": false
      },
      "cell_type": "code",
      "source": "idx = 0\nimage_id, image_path = val_full_filenames[idx]\nimage_id, image_path\n# im = open_image(image_path)",
      "execution_count": null,
      "outputs": []
    },
    {
      "metadata": {
        "_uuid": "c122323ef6492dd219dcbcb76f7f341feae30eb6",
        "trusted": false
      },
      "cell_type": "code",
      "source": "im = open_image(image_path)\nim.shape",
      "execution_count": null,
      "outputs": []
    },
    {
      "metadata": {
        "_uuid": "19c571d2f41e9e80acfc99079e639238b0766bd7",
        "trusted": false
      },
      "cell_type": "code",
      "source": "label[:,:4]",
      "execution_count": null,
      "outputs": []
    },
    {
      "metadata": {
        "_uuid": "d873a3dd1a2f6177f3db3a82c83506f80b82e52c",
        "trusted": false
      },
      "cell_type": "code",
      "source": "scaled_bbox = scale_pascal_bb(label[:,:4], im, SIZE)\nscaled_bbox",
      "execution_count": null,
      "outputs": []
    },
    {
      "metadata": {
        "_uuid": "84aa1205c8fde80785fc0d1584d0471fa8e9fc7c",
        "trusted": false
      },
      "cell_type": "code",
      "source": "cats = label[:, -1:]\ncats",
      "execution_count": null,
      "outputs": []
    },
    {
      "metadata": {
        "_uuid": "f8059ce452b0309df157a4189c450b28ee9b96f4",
        "trusted": false
      },
      "cell_type": "code",
      "source": "",
      "execution_count": null,
      "outputs": []
    },
    {
      "metadata": {
        "_uuid": "561e962700f7128bc857f7ba7d584e81c1109dc5",
        "scrolled": true,
        "trusted": false
      },
      "cell_type": "code",
      "source": "class BboxDataset(Dataset):\n    def __init__(self, full_filenames, data_ann):\n        \"\"\"\n        Args:\n            full_filenames (list): [(image_id, image_full_path), ...]\n            data_bbox (dict): {image_id: (area, bbox, cat), ...}\n        \"\"\"\n        self.full_filenames = full_filenames\n        self.data_ann = data_ann\n\n    def __len__(self):\n        return len(self.full_filenames)\n    \n    def __getitem__(self, idx):\n        image_id, image_path = self.full_filenames[idx]\n        im = open_image(image_path) # HW\n        resized_image = cv2.resize(im, (SIZE, SIZE)) # HW\n        image = np.transpose(resized_image, (2, 0, 1)) # CHW\n        \n        bbox_cat_list = self.data_ann[image_id]\n        bbox = [bb[0] for bb in bbox_cat_list]\n        cats = [bb[1] for bb in bbox_cat_list]\n        scaled_bbox = scale_pascal_bb(bbox, im, SIZE)\n        bbox_0_dimen = np.concatenate(scaled_bbox, -1)\n        bbox_count = len(cats)\n\n        return image_id, image, bbox_count, bbox_0_dimen, cats\n    \ndataset = BboxDataset(train_full_filenames, train_ann)\nidx = 7\nimage_id, inputs, bbox_count, bbox_label, cat_label = dataset[idx]\nimage_id, inputs.shape, bbox_count, bbox_label, cat_label",
      "execution_count": null,
      "outputs": []
    },
    {
      "metadata": {
        "_uuid": "b776212196ef71cc3d08aee49f24b612fd5403e7",
        "trusted": false
      },
      "cell_type": "code",
      "source": "# idx = random.randint(0, 100)\nidx = 7\nimage_id, inputs, bbox_count, bbox_0d_label, cat_label = dataset[idx]\nimage_id2, image_path = train_full_filenames[idx]\nassert image_id == image_id2\n\nim = open_image(str(image_path))\nresized_image = cv2.resize(im, (SIZE, SIZE)) # HW\nax = show_img(resized_image)\nbbox_labels = np.reshape(bbox_0d_label, (-1, 4))\nfor i in range(bbox_count):\n    bbox = bbox_labels[i]\n    cat = cat_labels[i]\n    draw_rect(ax, bbox)\n    draw_text(ax, bbox[:2], categories[cat])",
      "execution_count": null,
      "outputs": []
    },
    {
      "metadata": {
        "_uuid": "e7d6b96e0a76b766ce028f566c52f89bedc95e77"
      },
      "cell_type": "markdown",
      "source": "# DataLoader"
    },
    {
      "metadata": {
        "_uuid": "b2a40378aff6017bc1ad503c7ef7cb0fdf3aadae",
        "scrolled": true,
        "trusted": false
      },
      "cell_type": "code",
      "source": "BATCH_SIZE = 4\nNUM_WORKERS = 0\n\ndef collate_fn(mini_batch):\n    mini_batch_count = len(mini_batch)\n    idx_image_id, idx_inputs, idx_bbox_count, idx_bbox_0d_label, idx_cat_label = range(5)\n    \n    image_ids = torch.tensor([mini_batch[i][0] for i in range(mini_batch_count)])\n    inputs = torch.tensor([mini_batch[i][1] for i in range(mini_batch_count)], dtype=torch.float)\n    import pdb;pdb.set_trace()\n    bbox_labels = torch.tensor([mini_batch[i][2] for i in range(mini_batch_count)])\n    cat_labels = torch.tensor([mini_batch[i][3] for i in range(mini_batch_count)])\n    return image_ids, inputs, bbox_labels, cat_labels\n\ndataloader = DataLoader(dataset, batch_size=BATCH_SIZE,\n                        shuffle=True, num_workers=NUM_WORKERS, collate_fn=collate_fn)\n\nx = next(iter(dataloader))\n# batch_image_ids, batch_inputs, batch_bbox_labels, batch_cat_labels = next(iter(dataloader))\n# batch_image_ids, batch_inputs.size(), batch_bbox_labels, batch_cat_labels",
      "execution_count": null,
      "outputs": []
    },
    {
      "metadata": {
        "_uuid": "785668222c6e151bb0a2d89b48c8e517e43f5bfb",
        "trusted": false
      },
      "cell_type": "code",
      "source": "",
      "execution_count": null,
      "outputs": []
    },
    {
      "metadata": {
        "_uuid": "324c0d38b7987eae04da79dffa1782d848931237",
        "trusted": false
      },
      "cell_type": "code",
      "source": "x = np.array([[  1.792  , 108.11733, 174.72   ,  87.21067],\n       [ 72.576  ,  49.57867, 151.424  , 174.42133],\n       [ 76.608  ,  74.66667,  67.2    , 127.82933],\n       [  0.896  ,  80.04267,  56.896  , 102.144  ],\n       [ 56.896  ,  50.176  ,  33.152  ,  48.384  ]])\nx",
      "execution_count": null,
      "outputs": []
    },
    {
      "metadata": {
        "_uuid": "5ace73c2c9e54511cafd26a1c4f3eb37b2bef89c",
        "trusted": false
      },
      "cell_type": "code",
      "source": "np.concatenate(x, -1)",
      "execution_count": null,
      "outputs": []
    },
    {
      "metadata": {
        "_uuid": "fc1de6eb9d6b654ce1a5d46ac6544ef90e8fef0d",
        "trusted": false
      },
      "cell_type": "code",
      "source": "np.reshape(x, (-1, 4))",
      "execution_count": null,
      "outputs": []
    },
    {
      "metadata": {
        "_uuid": "90d53d111d34d8ddc7fee04952366b6d4337e833",
        "trusted": false
      },
      "cell_type": "code",
      "source": "np.reshape(x, (-1, 4)) == x",
      "execution_count": null,
      "outputs": []
    },
    {
      "metadata": {
        "_uuid": "4f48514ad43f17619641fe4d03acd36e7f93dc36",
        "trusted": false
      },
      "cell_type": "code",
      "source": "",
      "execution_count": null,
      "outputs": []
    },
    {
      "metadata": {
        "_uuid": "15da02fa413f6e5c7b99973681e2baec9a2b9e66",
        "trusted": false
      },
      "cell_type": "code",
      "source": "image_id, inputs, bbox_labels, cat_labels = x",
      "execution_count": null,
      "outputs": []
    },
    {
      "metadata": {
        "_uuid": "827b4839fd24c12215f836df05782bc42968b3a0",
        "trusted": false
      },
      "cell_type": "code",
      "source": "image_id",
      "execution_count": null,
      "outputs": []
    },
    {
      "metadata": {
        "_uuid": "af05606943f49313fd0bce186ba34c0cdaf3eaf9",
        "trusted": false
      },
      "cell_type": "code",
      "source": "inputs.size()",
      "execution_count": null,
      "outputs": []
    },
    {
      "metadata": {
        "_uuid": "8f211951fe4ea2d1e95a85c3a04e8a1a009a56b3",
        "trusted": false
      },
      "cell_type": "code",
      "source": "bbox_labels.size()",
      "execution_count": null,
      "outputs": []
    },
    {
      "metadata": {
        "_uuid": "ac90ea276d3b99b8c31882d1f2f890e5a6741a70",
        "trusted": false
      },
      "cell_type": "code",
      "source": "cat_label",
      "execution_count": null,
      "outputs": []
    },
    {
      "metadata": {
        "_uuid": "c9772de88d18124442eca9836d880930e136cdf0",
        "trusted": false
      },
      "cell_type": "code",
      "source": "len(x[0])",
      "execution_count": null,
      "outputs": []
    },
    {
      "metadata": {
        "_uuid": "bdd9f1b82a0f94ecaeb8d9677d9ed0b70cf97a9e",
        "trusted": false
      },
      "cell_type": "code",
      "source": "image_id, inputs, labels = x[0]\nimage_id, inputs.shape, labels",
      "execution_count": null,
      "outputs": []
    },
    {
      "metadata": {
        "_uuid": "b0d7f3e5974ed41489dc616ada92519d40587a0b",
        "trusted": false
      },
      "cell_type": "code",
      "source": "torch.tensor([a[0] for a in x])",
      "execution_count": null,
      "outputs": []
    },
    {
      "metadata": {
        "_uuid": "e0c3f0f38722834bb83e5abb085fa1c3ca534c46",
        "trusted": false
      },
      "cell_type": "code",
      "source": "",
      "execution_count": null,
      "outputs": []
    },
    {
      "metadata": {
        "_uuid": "0f76745c9b00c5054fdd6754726f109faf1e28ca"
      },
      "cell_type": "markdown",
      "source": "### Val Dataset"
    },
    {
      "metadata": {
        "_uuid": "dc912b4bcec1dbf1424ab63854189594e3b8bf9c"
      },
      "cell_type": "markdown",
      "source": "val data structs"
    },
    {
      "metadata": {
        "_uuid": "c53f5ee76947eabdc7376b53a0a6d7537eeb1ce5",
        "trusted": false
      },
      "cell_type": "code",
      "source": "val_filenames = get_filenames(val_data)\nval_image_ids = get_image_ids(val_data)\nval_full_filenames = get_full_filenames(val_filenames)",
      "execution_count": null,
      "outputs": []
    },
    {
      "metadata": {
        "_uuid": "a17ef7d4f46b9768a4864a3ada985ff4e19b298d",
        "scrolled": true,
        "trusted": false
      },
      "cell_type": "code",
      "source": "val_full_filenames = get_full_filenames(val_filenames)\nnext(iter(val_full_filenames))",
      "execution_count": null,
      "outputs": []
    },
    {
      "metadata": {
        "_uuid": "fb687858584f98a28bf11482faf4f488b94f3b89",
        "trusted": false
      },
      "cell_type": "code",
      "source": "val_image_w_bbox = get_image_w_bbox(val_data, val_image_ids)",
      "execution_count": null,
      "outputs": []
    },
    {
      "metadata": {
        "_uuid": "3b41d4be4210fecae7ebead7df7438efc04f028f",
        "trusted": false
      },
      "cell_type": "code",
      "source": "val_dataset = BboxDataset(val_full_filenames, val_image_w_bbox)",
      "execution_count": null,
      "outputs": []
    },
    {
      "metadata": {
        "_uuid": "a9dd1514768aabbf4515d4cd96405e42e3902c47",
        "trusted": false
      },
      "cell_type": "code",
      "source": "preview_data(val_filenames)",
      "execution_count": null,
      "outputs": []
    },
    {
      "metadata": {
        "_uuid": "7b2c8e4d3791745a72be5577ed04cf849731c0f9",
        "trusted": false
      },
      "cell_type": "code",
      "source": "val_data[ANNOTATIONS][0]",
      "execution_count": null,
      "outputs": []
    },
    {
      "metadata": {
        "_uuid": "f1dc88d77addf4c3076f032ead3a72cae78aaafe",
        "trusted": false
      },
      "cell_type": "code",
      "source": "val_image_w_bbox = get_image_w_bbox(val_data, val_image_ids)\npreview_data(val_image_w_bbox)",
      "execution_count": null,
      "outputs": []
    },
    {
      "metadata": {
        "_uuid": "0d15a1b2dd68048a004d1cd3f6d942fd9f93d2ea",
        "trusted": false
      },
      "cell_type": "code",
      "source": "print(preview_data(val_full_filenames))\nprint(preview_data(val_image_w_bbox))",
      "execution_count": null,
      "outputs": []
    },
    {
      "metadata": {
        "_uuid": "bd39557992872ee8ea3035474f5a2c6d8c7497bf",
        "trusted": false
      },
      "cell_type": "code",
      "source": "val_dataset = BboxDataset(val_full_filenames, val_image_w_bbox)\nidx = 2\nimage_id, inputs, label = val_dataset[idx]\nimage_id, inputs.shape, label",
      "execution_count": null,
      "outputs": []
    },
    {
      "metadata": {
        "_uuid": "24b5dc5f937f4d6396bb25c4bc89b198ecce6d0d",
        "trusted": false
      },
      "cell_type": "code",
      "source": "label",
      "execution_count": null,
      "outputs": []
    },
    {
      "metadata": {
        "_uuid": "af903fa20f74e76463a802fd2df720e36cea219f"
      },
      "cell_type": "markdown",
      "source": "show Validation dataset image w/ bbox"
    },
    {
      "metadata": {
        "_uuid": "4691d10fcbe3b6d24cf57e38722978133297e293",
        "trusted": false
      },
      "cell_type": "code",
      "source": "show_image_and_bbox(inputs, label)",
      "execution_count": null,
      "outputs": []
    },
    {
      "metadata": {
        "_uuid": "aee3e2b623064ba3d19d75f9813e901596053c88"
      },
      "cell_type": "markdown",
      "source": "Show the above image at **full scale** for the ground truth to see if it's correct"
    },
    {
      "metadata": {
        "_uuid": "12e82b990f90e3239c78b2db028e18c45bf6ae8b",
        "trusted": false
      },
      "cell_type": "code",
      "source": "idx = 2\nimage_id, filename = val_full_filenames[idx]\nimage_id, filename",
      "execution_count": null,
      "outputs": []
    },
    {
      "metadata": {
        "_uuid": "465bcf05ddb1d524af5723e0226e1478dabb40e0",
        "trusted": false
      },
      "cell_type": "code",
      "source": "area, bbox, cat = val_image_w_bbox[image_id]\narea, bbox, cat",
      "execution_count": null,
      "outputs": []
    },
    {
      "metadata": {
        "_uuid": "08d8fb438ecc856a500a0dfd1d75a49ddc790090",
        "trusted": false
      },
      "cell_type": "code",
      "source": "categories[cat]",
      "execution_count": null,
      "outputs": []
    },
    {
      "metadata": {
        "_uuid": "34ecbab2dfac0befcb4c774c4ed2490e0836d539",
        "trusted": false
      },
      "cell_type": "code",
      "source": "im = open_image(filename)\nim.shape",
      "execution_count": null,
      "outputs": []
    },
    {
      "metadata": {
        "_uuid": "6a4fd07ba070bc37ecea90b9a677e89e72b540f4",
        "trusted": false
      },
      "cell_type": "code",
      "source": "ax = show_img(im)\ndraw_rect(ax, bbox)\ndraw_text(ax, bbox[:2], categories[cat])",
      "execution_count": null,
      "outputs": []
    },
    {
      "metadata": {
        "_uuid": "aa3a4b5613836004a68433f3cce45e615bf012da"
      },
      "cell_type": "markdown",
      "source": "bbox helper functions"
    },
    {
      "metadata": {
        "_uuid": "08656dd9054e753b304690af1727afecf3a1cfd9",
        "trusted": false
      },
      "cell_type": "code",
      "source": "def fastai_bb(bb):\n    return np.array([bb[1], bb[0], bb[3]+bb[1]-1, bb[2]+bb[0]-1])\n\nprint(bbox)\nprint(fastai_bb(bbox))",
      "execution_count": null,
      "outputs": []
    },
    {
      "metadata": {
        "_uuid": "c0452e7a5f625fb0b5947f0fea21cf6ae6e00d19",
        "trusted": false
      },
      "cell_type": "code",
      "source": "def pascal_bb_hw(bb):\n    return bb[2:]\n\nbbox = train_data[ANNOTATIONS][0][BBOX]\npascal_bb_hw(bbox)",
      "execution_count": null,
      "outputs": []
    },
    {
      "metadata": {
        "_uuid": "d75f6c02fc275340aeaf75465da92ec2f12bca8e"
      },
      "cell_type": "markdown",
      "source": "# DataLoader"
    },
    {
      "metadata": {
        "_uuid": "4832dc8acf67d3a16edaca67aabb76f0f0f5c2cc",
        "scrolled": true,
        "trusted": false
      },
      "cell_type": "code",
      "source": "BATCH_SIZE = 64\nNUM_WORKERS = 0\n\ndataloader = DataLoader(dataset, batch_size=BATCH_SIZE,\n                        shuffle=True, num_workers=NUM_WORKERS)\n\nbatch_image_ids, batch_inputs, batch_labels = next(iter(dataloader))",
      "execution_count": null,
      "outputs": []
    },
    {
      "metadata": {
        "_uuid": "269a237e6431a9bcd1ac391c83a2953ffefc16d3",
        "trusted": false
      },
      "cell_type": "code",
      "source": "batch_inputs.size()",
      "execution_count": null,
      "outputs": []
    },
    {
      "metadata": {
        "_uuid": "2e2aa3d166a3a3d06428c466eff2eedf87c1addb",
        "trusted": false
      },
      "cell_type": "code",
      "source": "# batch_labels is a list, the first item is the \"batch bbox's\", 2nd item is \"batch categories\"",
      "execution_count": null,
      "outputs": []
    },
    {
      "metadata": {
        "_uuid": "0de314aed0f39af822f66ea0a3a05cb7215ed0f9",
        "trusted": false
      },
      "cell_type": "code",
      "source": "len(batch_labels)",
      "execution_count": null,
      "outputs": []
    },
    {
      "metadata": {
        "_uuid": "c95b87fa57f6dc0831ab33902a5902784505a413",
        "trusted": false
      },
      "cell_type": "code",
      "source": "batch_labels[0].size()",
      "execution_count": null,
      "outputs": []
    },
    {
      "metadata": {
        "_uuid": "6d59ba062d102dc9754b657cb27fbbc6e0fb42bc",
        "trusted": false
      },
      "cell_type": "code",
      "source": "batch_labels[1].size()",
      "execution_count": null,
      "outputs": []
    },
    {
      "metadata": {
        "_uuid": "e06eabcf6cfa35b8f19237013159f45b3994b5e7",
        "trusted": false
      },
      "cell_type": "code",
      "source": "# train the model",
      "execution_count": null,
      "outputs": []
    },
    {
      "metadata": {
        "_uuid": "579d5e724049115b6395bd0f5c86a8ed365c74cb"
      },
      "cell_type": "markdown",
      "source": "Val DataLoader"
    },
    {
      "metadata": {
        "_uuid": "f713e876c4dcf690837fb9d82b23202b6cda01c6",
        "trusted": false
      },
      "cell_type": "code",
      "source": "val_dataloader = DataLoader(val_dataset, batch_size=BATCH_SIZE,\n                            shuffle=True, num_workers=NUM_WORKERS)",
      "execution_count": null,
      "outputs": []
    },
    {
      "metadata": {
        "_uuid": "a7682c44eaa2fcb66e5603fac3a1c80789173e2e"
      },
      "cell_type": "markdown",
      "source": "Device check"
    },
    {
      "metadata": {
        "_uuid": "04203f61bd0e53571a7b6acf41851f25ffd95e3f",
        "trusted": false
      },
      "cell_type": "code",
      "source": "print('DEVICE:', device)",
      "execution_count": null,
      "outputs": []
    },
    {
      "metadata": {
        "_uuid": "0d4ed7656ed6a69d93727b78eefd8a1af868034d"
      },
      "cell_type": "markdown",
      "source": "# Build model"
    },
    {
      "metadata": {
        "_uuid": "8ea2db1005fcf7bfbae40f4b6ee8472f2afa045a",
        "scrolled": true,
        "trusted": false
      },
      "cell_type": "code",
      "source": "model_ft = models.resnet18(pretrained=True)\n\nfor layer in model_ft.parameters():\n    layer.requires_grad = False\n    \nnum_ftrs = model_ft.fc.in_features\nIN_FEATURES = num_ftrs\n\nprint(IN_FEATURES, NUM_CATEGORIES)\n\n# model_ft.fc = nn.Linear(num_ftrs, NUM_CATEGORIES)\n\n# model_ft = model_ft.to(device)\n\n# criterion = nn.CrossEntropyLoss()\n\n# # Observe that all parameters are being optimized\n# optimizer = optim.SGD(model_ft.parameters(), lr=0.01, momentum=0.9)",
      "execution_count": null,
      "outputs": []
    },
    {
      "metadata": {
        "_uuid": "28cb7af73532423b1e88b568117ad108339583f1"
      },
      "cell_type": "markdown",
      "source": "# Custom head with single Layer fork to 2 outputs\n\n`[bbox preds, category preds]`"
    },
    {
      "metadata": {
        "_uuid": "e25c083d66ba5205623870b5ba6cacc6d297c370",
        "trusted": false
      },
      "cell_type": "code",
      "source": "class BboxAndCatLayer(nn.Module):\n    def __init__(self):\n        super().__init__()\n        self.cat_layer = nn.Linear(IN_FEATURES, NUM_CATEGORIES)\n        self.bbox_layer = nn.Linear(IN_FEATURES, 4)\n        \n    def forward(self, x):\n        return (self.bbox_layer(x), self.cat_layer(x), )\n    \nmodel_ft.fc = BboxAndCatLayer()\n\nmodel_ft = model_ft.to(device)",
      "execution_count": null,
      "outputs": []
    },
    {
      "metadata": {
        "_uuid": "50b35aa758a292b9ba9bf0cebd220c50af287c60"
      },
      "cell_type": "markdown",
      "source": "### check Model output dimen"
    },
    {
      "metadata": {
        "_uuid": "fed3fa9c9d9019cbb0fb5fb87f3af2fffcf66a41",
        "trusted": false
      },
      "cell_type": "code",
      "source": "image_ids, inputs, labels = next(iter(dataloader))",
      "execution_count": null,
      "outputs": []
    },
    {
      "metadata": {
        "_uuid": "7258deb811f6f2e934df84c1c356975ea488e10a",
        "trusted": false
      },
      "cell_type": "code",
      "source": "print(len(labels))\nprint(type(labels))\nprint(labels[0].size())\nprint(labels[0].dtype)\nprint(labels[1].size())\nprint(labels[1].dtype)",
      "execution_count": null,
      "outputs": []
    },
    {
      "metadata": {
        "_uuid": "f289d6c9a9b662cbe97c502b397fadeb30e97dbb",
        "trusted": false
      },
      "cell_type": "code",
      "source": "inputs = inputs.to(device)\noutputs = model_ft(inputs)",
      "execution_count": null,
      "outputs": []
    },
    {
      "metadata": {
        "_uuid": "e971cba07d2faff7cb06e8c86d983951bcbb6caf",
        "trusted": false
      },
      "cell_type": "code",
      "source": "bbox_outputs, cat_outputs = outputs\nbbox_outputs.size(), cat_outputs.size()",
      "execution_count": null,
      "outputs": []
    },
    {
      "metadata": {
        "_uuid": "08b79b88347a9b20066aae86fcf31f49f2d06ec9",
        "trusted": false
      },
      "cell_type": "code",
      "source": "_, cat_preds = torch.max(cat_outputs, dim=1)\ncat_preds.size()",
      "execution_count": null,
      "outputs": []
    },
    {
      "metadata": {
        "_uuid": "1f3083587a5544c90179874697cb4f8152a1041e",
        "trusted": false
      },
      "cell_type": "code",
      "source": "preds = [bbox_outputs, cat_outputs]\n\nprint(preds[0].size())\nprint(preds[0].dtype)\nprint(preds[1].size())\nprint(preds[1].dtype)",
      "execution_count": null,
      "outputs": []
    },
    {
      "metadata": {
        "_uuid": "192761dbd806b976ed73be05f2abdb6a9c591259"
      },
      "cell_type": "markdown",
      "source": "# Loss Function - for custom head"
    },
    {
      "metadata": {
        "_uuid": "a10e894157822eb8b43655c7cfdcb03376e1714b",
        "trusted": false
      },
      "cell_type": "code",
      "source": "class BboxAndCatLoss(nn.Module):\n    def __init__(self):\n        super().__init__()\n        self.bbox_loss = nn.L1Loss()\n        self.cat_loss = nn.CrossEntropyLoss()\n        \n    def forward(self, preds, targets):\n        bbox_preds, cat_preds = preds\n        bbox_targets, cat_targets = targets\n\n        # data munging\n        bbox_preds = bbox_preds.to(device, torch.float64)\n        cat_targets_0_indexed = cat_targets - 1\n        \n        # per type of loss\n        bbox_loss = self.bbox_loss(bbox_preds, bbox_targets)\n        cat_loss = self.cat_loss(cat_preds, cat_targets_0_indexed)\n        # cast b/c bbox_loss.dtype == torch.float64\n        cat_loss = cat_loss.to(device, dtype=torch.float64)\n        \n        return bbox_loss + cat_loss\n    \ncriterion = BboxAndCatLoss()\n\npreds = [p.to(device) for p in preds]\nlabels = [x.to(device) for x in labels]\n\nloss = criterion(preds, labels)\nloss",
      "execution_count": null,
      "outputs": []
    },
    {
      "metadata": {
        "_uuid": "c93c7ca14ef0121e2fdd0a02eb88d25ff2c616b8"
      },
      "cell_type": "markdown",
      "source": "# Train the model"
    },
    {
      "metadata": {
        "_uuid": "5e12993fb2f17eb2da9dc6c97069b7308db44b89",
        "trusted": false
      },
      "cell_type": "code",
      "source": "# Observe that all parameters are being optimized\noptimizer = optim.SGD(model_ft.parameters(), lr=0.01, momentum=0.9)",
      "execution_count": null,
      "outputs": []
    },
    {
      "metadata": {
        "_uuid": "bda133df2229ffc261fad8eeee5c58531e502b4a",
        "trusted": false
      },
      "cell_type": "code",
      "source": "TRAIN = 'train'\nVAL = 'val'\n\ndataloaders = {\n    TRAIN: dataloader,\n    VAL: val_dataloader\n}\n\ndataset_sizes = {\n    TRAIN: len(dataset),\n    VAL: len(val_dataset)\n}",
      "execution_count": null,
      "outputs": []
    },
    {
      "metadata": {
        "_uuid": "895ae9b365938e2c9154f367944c9acc865e9df6",
        "trusted": false
      },
      "cell_type": "code",
      "source": "epoch_losses = {TRAIN: [], VAL: []}\nepoch_accuracies = {TRAIN: [], VAL: []}",
      "execution_count": null,
      "outputs": []
    },
    {
      "metadata": {
        "_uuid": "a0580ed97f4b56be19c0277a3c4dbdd8f57597ef",
        "trusted": false
      },
      "cell_type": "code",
      "source": "best_model_weights = copy.deepcopy(model_ft.state_dict())\nbest_acc = 0.0",
      "execution_count": null,
      "outputs": []
    },
    {
      "metadata": {
        "_uuid": "a03afc1a50a6ca92ed8602552c9e527665e60928",
        "scrolled": true,
        "trusted": false
      },
      "cell_type": "code",
      "source": "# EPOCHS = 1\n\n# for epoch in tqdm(range(EPOCHS)):\n#     print('epoch:', epoch)\n    \n#     for phase in [TRAIN, VAL]:\n#         running_loss = 0.0\n#         running_correct = 0\n\n#         for image_ids, inputs, labels in dataloaders[phase]:\n#             inputs = inputs.to(device)\n\n#             # labels - separate to.(device) b/c labels is a list\n#             (bbox_labels, cat_labels) = labels\n#             bbox_labels = bbox_labels.to(device)\n#             cat_labels = cat_labels.to(device)\n\n#             # clear gradients\n#             optimizer.zero_grad()\n\n#             # forward pass\n#             outputs = model_ft(inputs)\n#             bbox_outputs, cat_outputs = outputs\n#             _, preds = torch.max(cat_outputs, dim=1)\n#             loss = criterion(outputs, (bbox_labels, cat_labels))\n\n#             # backwards pass\n#             if phase == TRAIN:\n#                 loss.backward()\n#                 optimizer.step()\n\n#             running_loss += loss.item() * inputs.size(0)\n#             labels_0_indexed = cat_labels - 1\n#             running_correct += torch.sum(preds == labels_0_indexed)\n\n#         # per epoch/phase\n#         epoch_loss = running_loss / dataset_sizes[phase]\n#         epoch_acc = running_correct.double().item() / dataset_sizes[phase]\n#         epoch_losses[phase].append(epoch_loss)\n#         epoch_accuracies[phase].append(epoch_acc)\n\n#     if epoch_accuracies[VAL][-1] > best_acc:\n#         best_acc = epoch_accuracies[VAL][-1]\n#         best_model_weights = copy.deepcopy(model_ft.state_dict())\n        \n#     print('train loss:', epoch_losses[TRAIN][-1], 'train acc:', epoch_accuracies[TRAIN][-1])\n#     print('val loss:', epoch_losses[VAL][-1], 'val acc:', epoch_accuracies[VAL][-1])",
      "execution_count": null,
      "outputs": []
    },
    {
      "metadata": {
        "_uuid": "f64c8664a6f39865d8d4e5f9ee81131beea09d18"
      },
      "cell_type": "markdown",
      "source": "Graph loss and accuracy"
    },
    {
      "metadata": {
        "_uuid": "180a093a6d69e456d65124a424c0013e3168de24",
        "scrolled": true,
        "trusted": false
      },
      "cell_type": "code",
      "source": "epoch_losses",
      "execution_count": null,
      "outputs": []
    },
    {
      "metadata": {
        "_uuid": "b116d1d203132fa94e75e0fab51e7c0796b45cee",
        "scrolled": true,
        "trusted": false
      },
      "cell_type": "code",
      "source": "epoch_accuracies",
      "execution_count": null,
      "outputs": []
    },
    {
      "metadata": {
        "_uuid": "9003f7eb4ade3aed86de0bff8f72a36333fa9da0"
      },
      "cell_type": "markdown",
      "source": "### check predictions"
    },
    {
      "metadata": {
        "_uuid": "b6f4f8403e5ec7d3caf855a8f59f79ee0a02a9e0",
        "trusted": false
      },
      "cell_type": "code",
      "source": "plt.plot(epoch_losses['train'])\nplt.plot(epoch_losses['val'])",
      "execution_count": null,
      "outputs": []
    },
    {
      "metadata": {
        "_uuid": "e213712dcd365573dd26ac944f3ffeb447c04d64",
        "trusted": false
      },
      "cell_type": "code",
      "source": "plt.plot(epoch_accuracies['train'])\nplt.plot(epoch_accuracies['val'])",
      "execution_count": null,
      "outputs": []
    },
    {
      "metadata": {
        "_uuid": "4cd907b9f8e6b4acf46dfbdf4f3d36f8155a39cd"
      },
      "cell_type": "markdown",
      "source": "## save model weights"
    },
    {
      "metadata": {
        "_uuid": "a6d0e91cdf87023577e164f0d66fda9032b48524",
        "trusted": false
      },
      "cell_type": "code",
      "source": "MODEL_DIR = Path.cwd()/'data/model'\nprint(MODEL_DIR)\nprint('isdir:', os.path.isdir(MODEL_DIR))",
      "execution_count": null,
      "outputs": []
    },
    {
      "metadata": {
        "_uuid": "2565a2cbdd64b91d6758d2aa5ccca5273137214a",
        "trusted": false
      },
      "cell_type": "code",
      "source": "def maybe_create_model_dir():\n    if not os.path.isdir(MODEL_DIR):\n        os.mkdir(MODEL_DIR)\n\ndef save(state_dict):\n    filepath = f'{MODEL_DIR}/model_{datetime.datetime.now().isoformat()}.pth'\n    torch.save(state_dict, filepath)\n    return filepath\n    \nmaybe_create_model_dir()\n\nfilepath = save(model_ft.state_dict())\nfilepath",
      "execution_count": null,
      "outputs": []
    },
    {
      "metadata": {
        "_uuid": "e60025609e8a79f6e1ad92fe1697d75b11e9cb3c",
        "scrolled": true,
        "trusted": false
      },
      "cell_type": "code",
      "source": "def load(model, filepath):\n    state_dict = torch.load(filepath)\n    model.load_state_dict(state_dict)\n    return model\n\nmodel = load(model_ft, filepath)\nmodel",
      "execution_count": null,
      "outputs": []
    },
    {
      "metadata": {
        "_uuid": "30acc6e3c5582f2585c93c93549f4a126c728cf4"
      },
      "cell_type": "markdown",
      "source": "## View predictions"
    },
    {
      "metadata": {
        "_uuid": "a921533060e0b436245d5304dcabbc1bcaa24f57",
        "trusted": false
      },
      "cell_type": "code",
      "source": "bbox_outputs, cat_outputs = outputs\n_, preds = torch.max(cat_outputs, dim=1)\npreds",
      "execution_count": null,
      "outputs": []
    },
    {
      "metadata": {
        "_uuid": "3aa87ca0062b0b105ac03b9f56f37e4e917102a9"
      },
      "cell_type": "markdown",
      "source": "predicted"
    },
    {
      "metadata": {
        "_uuid": "7fd42aa24509333e70ee7b30f826c1c22cb21aa5",
        "trusted": false
      },
      "cell_type": "code",
      "source": "preds_count = len(preds)\nfig, axes = plt.subplots(1, 7, figsize=(16, 16))\nfor i, ax in enumerate(axes.flat):\n    im = np.transpose(inputs[i], (1, 2, 0))\n    ax = show_img(im, ax=ax)\n    draw_rect(ax, bbox_outputs[i])\n    draw_text(ax, (0,0), categories[preds[i].item()+1])",
      "execution_count": null,
      "outputs": []
    },
    {
      "metadata": {
        "_uuid": "b37d52000dccb629cb68ada411600e14524b02e1"
      },
      "cell_type": "markdown",
      "source": "Ground truth"
    },
    {
      "metadata": {
        "_uuid": "9c131fccea2e4994744548d954084638aa0a3b6c",
        "trusted": false
      },
      "cell_type": "code",
      "source": "preds_count = len(preds)\nfig, axes = plt.subplots(1, 7, figsize=(16, 16))\nfor i, ax in enumerate(axes.flat):\n    im = np.transpose(inputs[i], (1, 2, 0))\n    ax = show_img(im, ax=ax)\n    draw_rect(ax, labels[0][i])\n    draw_text(ax, (0,0), categories[labels[1][i].item()])",
      "execution_count": null,
      "outputs": []
    },
    {
      "metadata": {
        "_uuid": "c7b56c52eaaa7e3c98bb39d2c034f381dfb011fc",
        "trusted": false
      },
      "cell_type": "code",
      "source": "",
      "execution_count": null,
      "outputs": []
    }
  ],
  "metadata": {
    "kernelspec": {
      "display_name": "Python 3",
      "language": "python",
      "name": "python3"
    },
    "language_info": {
      "name": "python",
      "version": "3.6.6",
      "mimetype": "text/x-python",
      "codemirror_mode": {
        "name": "ipython",
        "version": 3
      },
      "pygments_lexer": "ipython3",
      "nbconvert_exporter": "python",
      "file_extension": ".py"
    }
  },
  "nbformat": 4,
  "nbformat_minor": 1
}